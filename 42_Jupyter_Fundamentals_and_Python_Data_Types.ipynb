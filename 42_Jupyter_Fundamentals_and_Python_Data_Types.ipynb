{
 "cells": [
  {
   "cell_type": "markdown",
   "id": "d5cfc0ad-0379-48b8-a077-40b3a4401503",
   "metadata": {},
   "source": [
    "Importing Libraries"
   ]
  },
  {
   "cell_type": "code",
   "execution_count": 2,
   "id": "44d67ec7-b731-4140-b7b3-1337973a2b93",
   "metadata": {},
   "outputs": [],
   "source": "# Importing additional libraries\nimport pandas as pd\nimport numpy as np\nimport os"
  },
  {
   "cell_type": "markdown",
   "id": "190ea42a-f818-4260-87d4-a136b079d5cd",
   "metadata": {},
   "source": [
    "Work with Python Datatypes"
   ]
  },
  {
   "cell_type": "code",
   "execution_count": 7,
   "id": "59ece921-854f-49fc-a707-d5905496efc8",
   "metadata": {},
   "outputs": [],
   "source": "a = 5\nb = 20 \nc = 120\nd = 40\ne = 2"
  },
  {
   "cell_type": "code",
   "execution_count": 8,
   "id": "e2a4bac6-7a45-4e06-8fe2-3be8e10bd91b",
   "metadata": {},
   "outputs": [
    {
     "data": {
      "text/plain": [
       "100"
      ]
     },
     "execution_count": 8,
     "metadata": {},
     "output_type": "execute_result"
    }
   ],
   "source": "a * b"
  },
  {
   "cell_type": "code",
   "execution_count": 9,
   "id": "f08ca952-a973-478b-ab54-38455a106b3e",
   "metadata": {},
   "outputs": [
    {
     "data": {
      "text/plain": [
       "100.0"
      ]
     },
     "execution_count": 9,
     "metadata": {},
     "output_type": "execute_result"
    }
   ],
   "source": "c - d / e"
  },
  {
   "cell_type": "code",
   "execution_count": 10,
   "id": "45de43bf-bf49-4d60-9943-aa3a9bdecea5",
   "metadata": {},
   "outputs": [
    {
     "data": {
      "text/plain": [
       "100"
      ]
     },
     "execution_count": 10,
     "metadata": {},
     "output_type": "execute_result"
    }
   ],
   "source": "c - b"
  },
  {
   "cell_type": "code",
   "execution_count": 11,
   "id": "93bc34ff-273f-4ebf-849d-9674b928fbda",
   "metadata": {},
   "outputs": [
    {
     "data": {
      "text/plain": [
       "2.0"
      ]
     },
     "execution_count": 11,
     "metadata": {},
     "output_type": "execute_result"
    }
   ],
   "source": "x = 20.8\ny = 10.4\nx/y"
  },
  {
   "cell_type": "code",
   "execution_count": 12,
   "id": "f4cb6482-82e2-4aba-98db-932acade00d5",
   "metadata": {},
   "outputs": [
    {
     "data": {
      "text/plain": [
       "'RAMEN'"
      ]
     },
     "execution_count": 12,
     "metadata": {},
     "output_type": "execute_result"
    }
   ],
   "source": "m = \"RA\" \nn = \"MEN\"\nm+n"
  },
  {
   "cell_type": "code",
   "execution_count": 18,
   "id": "9696d8c9-8875-44fe-90a7-dcce28784586",
   "metadata": {},
   "outputs": [
    {
     "data": {
      "text/plain": [
       "'Construct 2 short sentences made of separate strings.'"
      ]
     },
     "execution_count": 18,
     "metadata": {},
     "output_type": "execute_result"
    }
   ],
   "source": "f = \"Construct 2 short \"\ng = \"sentences made of separate strings.\"\nf+g"
  },
  {
   "cell_type": "code",
   "execution_count": 19,
   "id": "eb858dd9-fb7c-40b2-8758-2cc4ad0f385b",
   "metadata": {},
   "outputs": [
    {
     "data": {
      "text/plain": [
       "'Save your Jupyter file.'"
      ]
     },
     "execution_count": 19,
     "metadata": {},
     "output_type": "execute_result"
    }
   ],
   "source": "h= \"Save \"\ni= \"your \"\nj= \"Jupyter \"\nk= \"file.\"\nh+i+j+k"
  },
  {
   "cell_type": "code",
   "execution_count": null,
   "id": "6e4dde73-e8b9-4dd5-8bb6-3f8fe7e98cf9",
   "metadata": {},
   "outputs": [],
   "source": ""
  }
 ],
 "metadata": {
  "kernelspec": {
   "display_name": "Python [conda env:base] *",
   "language": "python",
   "name": "conda-base-py"
  },
  "language_info": {
   "codemirror_mode": {
    "name": "ipython",
    "version": 3
   },
   "file_extension": ".py",
   "mimetype": "text/x-python",
   "name": "python",
   "nbconvert_exporter": "python",
   "pygments_lexer": "ipython3",
   "version": "3.13.5"
  }
 },
 "nbformat": 4,
 "nbformat_minor": 5
}