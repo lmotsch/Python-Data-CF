{
 "cells": [
  {
   "cell_type": "markdown",
   "id": "42a6333f-c3a5-47ab-be6b-ed71678a4a42",
   "metadata": {},
   "source": [
    "# 4.10. Coding Etiquette and Excel Reporting"
   ]
  },
  {
   "cell_type": "markdown",
   "id": "e6adc3df-4218-404f-a938-0b7b6a21e478",
   "metadata": {
    "jp-MarkdownHeadingCollapsed": true
   },
   "source": [
    "### Contents\n",
    "<br> Task 1: Load the cleaned and merged instacart\n",
    "<br> Task 2: Address risk of personally identifiable information (PII)\n",
    "<br> Task 3.1: The Instacart officers are interested in comparing customer behavior in different geographic areas. Create a regional segmentation of the data.\n",
    "<br> Task 3.2: Determine whether there’s a difference in spending habits between the different U.S. regions.\n",
    "<br> Task 4: The Instacart CFO isn’t interested in customers who don’t generate much revenue for the app. \n",
    "<br> Task 5: Create a customer profiling variable\n",
    "<br> Task 6: Create a Visualization for Profile Segments\n",
    "<br> Task 7: Aggregate the max, mean, and min variables on a customer-profile level for usage frequency and expenditure\n",
    "<br> Task 8: Compare your customer profiles with regions and departments. Can you identify a link between them? Customers may demonstrate different behaviors across regions, which could make this information important.\n",
    "<br> Task 9: Export Suitable Charts\n",
    "<br> Task 10: Export dataframe"
   ]
  },
  {
   "cell_type": "markdown",
   "id": "d6edfc05-3f98-4aec-9512-306dad0c04d1",
   "metadata": {
    "jp-MarkdownHeadingCollapsed": true
   },
   "source": [
    "### Task 1: Load the cleaned and merged Instacart dataset"
   ]
  },
  {
   "cell_type": "code",
   "execution_count": 1,
   "id": "3b88d499-ec2a-41c3-a053-60db6e4f3c83",
   "metadata": {},
   "outputs": [],
   "source": [
    "import pandas as pd\n",
    "import numpy as np\n",
    "import os\n",
    "import matplotlib.pyplot as plt\n",
    "import seaborn as sns\n",
    "import scipy"
   ]
  },
  {
   "cell_type": "code",
   "execution_count": 2,
   "id": "9165a2b4-b2f7-445d-85ad-202a2a50ec4e",
   "metadata": {},
   "outputs": [],
   "source": [
    "path = '/Users/lpm/Downloads/CF_2_Data Immersion/4 Python/Instacart Basket Analysis'"
   ]
  },
  {
   "cell_type": "code",
   "execution_count": 3,
   "id": "e2473a34-efbe-4015-991d-84e51a6c01f0",
   "metadata": {},
   "outputs": [],
   "source": [
    "# Load the current dataset\n",
    "df = pd.read_pickle(os.path.join(path, '02 Data', 'Prepared Data', 'ords_prods_custs_merge.pkl'))"
   ]
  },
  {
   "cell_type": "code",
   "execution_count": 4,
   "id": "19501431-1273-4c12-8eff-9f9871bcb55a",
   "metadata": {},
   "outputs": [
    {
     "data": {
      "text/html": [
       "<div>\n",
       "<style scoped>\n",
       "    .dataframe tbody tr th:only-of-type {\n",
       "        vertical-align: middle;\n",
       "    }\n",
       "\n",
       "    .dataframe tbody tr th {\n",
       "        vertical-align: top;\n",
       "    }\n",
       "\n",
       "    .dataframe thead th {\n",
       "        text-align: right;\n",
       "    }\n",
       "</style>\n",
       "<table border=\"1\" class=\"dataframe\">\n",
       "  <thead>\n",
       "    <tr style=\"text-align: right;\">\n",
       "      <th></th>\n",
       "      <th>product_id</th>\n",
       "      <th>product_name</th>\n",
       "      <th>aisle_id</th>\n",
       "      <th>department_id</th>\n",
       "      <th>prices</th>\n",
       "      <th>order_id</th>\n",
       "      <th>user_id</th>\n",
       "      <th>order_number</th>\n",
       "      <th>orders_day_of_week</th>\n",
       "      <th>order_hour_of_day</th>\n",
       "      <th>...</th>\n",
       "      <th>first_name</th>\n",
       "      <th>last_name</th>\n",
       "      <th>gender</th>\n",
       "      <th>state</th>\n",
       "      <th>age</th>\n",
       "      <th>date_joined</th>\n",
       "      <th>n_dependents</th>\n",
       "      <th>fam_status</th>\n",
       "      <th>income</th>\n",
       "      <th>merging_status</th>\n",
       "    </tr>\n",
       "  </thead>\n",
       "  <tbody>\n",
       "    <tr>\n",
       "      <th>0</th>\n",
       "      <td>1</td>\n",
       "      <td>Chocolate Sandwich Cookies</td>\n",
       "      <td>61</td>\n",
       "      <td>19</td>\n",
       "      <td>5.8</td>\n",
       "      <td>3139998</td>\n",
       "      <td>138</td>\n",
       "      <td>28</td>\n",
       "      <td>6</td>\n",
       "      <td>11</td>\n",
       "      <td>...</td>\n",
       "      <td>Charles</td>\n",
       "      <td>Cox</td>\n",
       "      <td>Male</td>\n",
       "      <td>Minnesota</td>\n",
       "      <td>81</td>\n",
       "      <td>2019-08-01</td>\n",
       "      <td>1</td>\n",
       "      <td>married</td>\n",
       "      <td>49620</td>\n",
       "      <td>both</td>\n",
       "    </tr>\n",
       "    <tr>\n",
       "      <th>1</th>\n",
       "      <td>1</td>\n",
       "      <td>Chocolate Sandwich Cookies</td>\n",
       "      <td>61</td>\n",
       "      <td>19</td>\n",
       "      <td>5.8</td>\n",
       "      <td>1977647</td>\n",
       "      <td>138</td>\n",
       "      <td>30</td>\n",
       "      <td>6</td>\n",
       "      <td>17</td>\n",
       "      <td>...</td>\n",
       "      <td>Charles</td>\n",
       "      <td>Cox</td>\n",
       "      <td>Male</td>\n",
       "      <td>Minnesota</td>\n",
       "      <td>81</td>\n",
       "      <td>2019-08-01</td>\n",
       "      <td>1</td>\n",
       "      <td>married</td>\n",
       "      <td>49620</td>\n",
       "      <td>both</td>\n",
       "    </tr>\n",
       "    <tr>\n",
       "      <th>2</th>\n",
       "      <td>1</td>\n",
       "      <td>Chocolate Sandwich Cookies</td>\n",
       "      <td>61</td>\n",
       "      <td>19</td>\n",
       "      <td>5.8</td>\n",
       "      <td>389851</td>\n",
       "      <td>709</td>\n",
       "      <td>2</td>\n",
       "      <td>0</td>\n",
       "      <td>21</td>\n",
       "      <td>...</td>\n",
       "      <td>Deborah</td>\n",
       "      <td>Glass</td>\n",
       "      <td>Female</td>\n",
       "      <td>Vermont</td>\n",
       "      <td>66</td>\n",
       "      <td>2018-06-16</td>\n",
       "      <td>2</td>\n",
       "      <td>married</td>\n",
       "      <td>158302</td>\n",
       "      <td>both</td>\n",
       "    </tr>\n",
       "    <tr>\n",
       "      <th>3</th>\n",
       "      <td>1</td>\n",
       "      <td>Chocolate Sandwich Cookies</td>\n",
       "      <td>61</td>\n",
       "      <td>19</td>\n",
       "      <td>5.8</td>\n",
       "      <td>652770</td>\n",
       "      <td>764</td>\n",
       "      <td>1</td>\n",
       "      <td>3</td>\n",
       "      <td>13</td>\n",
       "      <td>...</td>\n",
       "      <td>Heather</td>\n",
       "      <td>Myers</td>\n",
       "      <td>Female</td>\n",
       "      <td>Wisconsin</td>\n",
       "      <td>40</td>\n",
       "      <td>2020-02-09</td>\n",
       "      <td>3</td>\n",
       "      <td>married</td>\n",
       "      <td>31308</td>\n",
       "      <td>both</td>\n",
       "    </tr>\n",
       "    <tr>\n",
       "      <th>4</th>\n",
       "      <td>1</td>\n",
       "      <td>Chocolate Sandwich Cookies</td>\n",
       "      <td>61</td>\n",
       "      <td>19</td>\n",
       "      <td>5.8</td>\n",
       "      <td>1813452</td>\n",
       "      <td>764</td>\n",
       "      <td>3</td>\n",
       "      <td>4</td>\n",
       "      <td>17</td>\n",
       "      <td>...</td>\n",
       "      <td>Heather</td>\n",
       "      <td>Myers</td>\n",
       "      <td>Female</td>\n",
       "      <td>Wisconsin</td>\n",
       "      <td>40</td>\n",
       "      <td>2020-02-09</td>\n",
       "      <td>3</td>\n",
       "      <td>married</td>\n",
       "      <td>31308</td>\n",
       "      <td>both</td>\n",
       "    </tr>\n",
       "  </tbody>\n",
       "</table>\n",
       "<p>5 rows × 34 columns</p>\n",
       "</div>"
      ],
      "text/plain": [
       "   product_id                product_name  aisle_id  department_id  prices  \\\n",
       "0           1  Chocolate Sandwich Cookies        61             19     5.8   \n",
       "1           1  Chocolate Sandwich Cookies        61             19     5.8   \n",
       "2           1  Chocolate Sandwich Cookies        61             19     5.8   \n",
       "3           1  Chocolate Sandwich Cookies        61             19     5.8   \n",
       "4           1  Chocolate Sandwich Cookies        61             19     5.8   \n",
       "\n",
       "   order_id  user_id  order_number  orders_day_of_week  order_hour_of_day  \\\n",
       "0   3139998      138            28                   6                 11   \n",
       "1   1977647      138            30                   6                 17   \n",
       "2    389851      709             2                   0                 21   \n",
       "3    652770      764             1                   3                 13   \n",
       "4   1813452      764             3                   4                 17   \n",
       "\n",
       "   ...  first_name  last_name  gender      state age date_joined n_dependents  \\\n",
       "0  ...     Charles        Cox    Male  Minnesota  81  2019-08-01            1   \n",
       "1  ...     Charles        Cox    Male  Minnesota  81  2019-08-01            1   \n",
       "2  ...     Deborah      Glass  Female    Vermont  66  2018-06-16            2   \n",
       "3  ...     Heather      Myers  Female  Wisconsin  40  2020-02-09            3   \n",
       "4  ...     Heather      Myers  Female  Wisconsin  40  2020-02-09            3   \n",
       "\n",
       "  fam_status  income merging_status  \n",
       "0    married   49620           both  \n",
       "1    married   49620           both  \n",
       "2    married  158302           both  \n",
       "3    married   31308           both  \n",
       "4    married   31308           both  \n",
       "\n",
       "[5 rows x 34 columns]"
      ]
     },
     "execution_count": 4,
     "metadata": {},
     "output_type": "execute_result"
    }
   ],
   "source": [
    "# Quick check\n",
    "df.head()"
   ]
  },
  {
   "cell_type": "markdown",
   "id": "052aa430-3282-4982-928f-14e4f102b548",
   "metadata": {
    "jp-MarkdownHeadingCollapsed": true
   },
   "source": [
    "### Task 2: Address risk of personally identifiable information (PII)"
   ]
  },
  {
   "cell_type": "code",
   "execution_count": 5,
   "id": "93bf5be4-64b7-4381-8a62-d2bbf0ab2168",
   "metadata": {},
   "outputs": [
    {
     "data": {
      "text/plain": [
       "Index(['product_id', 'product_name', 'aisle_id', 'department_id', 'prices',\n",
       "       'order_id', 'user_id', 'order_number', 'orders_day_of_week',\n",
       "       'order_hour_of_day', 'days_since_prior_order', 'add_to_cart_order',\n",
       "       'reordered', '_merge', 'price_range_loc', 'busiest_day', 'busiest_days',\n",
       "       'busiest_hours', 'max_order', 'loyalty_flag', 'avg_spend_user',\n",
       "       'spending_flag', 'last_order_median', 'active_customer_status',\n",
       "       'first_name', 'last_name', 'gender', 'state', 'age', 'date_joined',\n",
       "       'n_dependents', 'fam_status', 'income', 'merging_status'],\n",
       "      dtype='object')"
      ]
     },
     "execution_count": 5,
     "metadata": {},
     "output_type": "execute_result"
    }
   ],
   "source": [
    "# Display column names \n",
    "df.columns"
   ]
  },
  {
   "cell_type": "markdown",
   "id": "6e603d29-7d6d-49f8-bba3-20daf47e2124",
   "metadata": {},
   "source": [
    "We have the full name of the customer in this data set which can be used to indentify the person, especially also having his age and state information. We need to consider this and might have to scrub this data in a real world scenario. <br>\n",
    "I'll keep it in this case."
   ]
  },
  {
   "cell_type": "markdown",
   "id": "5f04cfa6-9f8f-44f0-8d23-cd2d1eef31d8",
   "metadata": {
    "jp-MarkdownHeadingCollapsed": true
   },
   "source": [
    "### Task 3.1: The Instacart officers are interested in comparing customer behavior in different geographic areas. Create a regional segmentation of the data."
   ]
  },
  {
   "cell_type": "code",
   "execution_count": 6,
   "id": "bed2e2cd-a0bb-42a3-ada5-78ebf1e7966b",
   "metadata": {},
   "outputs": [],
   "source": [
    "# Source for mapping of the regions to states: https://simple.wikipedia.org/wiki/List_of_regions_of_the_United_States\n",
    "# Define regions as lists of states\n",
    "northeast = [\n",
    "    'Maine', 'New Hampshire', 'Vermont', 'Massachusetts',\n",
    "    'Rhode Island', 'Connecticut', 'New York', 'Pennsylvania', 'New Jersey'\n",
    "]\n",
    "\n",
    "midwest = [\n",
    "    'Wisconsin', 'Michigan', 'Illinois', 'Indiana', 'Ohio',\n",
    "    'North Dakota', 'South Dakota', 'Nebraska', 'Kansas',\n",
    "    'Minnesota', 'Iowa', 'Missouri'\n",
    "]\n",
    "\n",
    "south = [\n",
    "    'Delaware', 'Maryland', 'District of Columbia', 'Virginia', 'West Virginia',\n",
    "    'North Carolina', 'South Carolina', 'Georgia', 'Florida',\n",
    "    'Kentucky', 'Tennessee', 'Mississippi', 'Alabama',\n",
    "    'Oklahoma', 'Texas', 'Arkansas', 'Louisiana'\n",
    "]\n",
    "\n",
    "west = [\n",
    "    'Idaho', 'Montana', 'Wyoming', 'Nevada', 'Utah', 'Colorado',\n",
    "    'Arizona', 'New Mexico', 'Alaska', 'Washington',\n",
    "    'Oregon', 'California', 'Hawaii'\n",
    "]\n",
    "\n",
    "# Build our mappipng dictionary. I learned that using the backslash tells python that my code continues in the next line and that backslash can be used to merge dictionaries\n",
    "state_to_region = {state: 'Northeast' for state in northeast} \\\n",
    "                  | {state: 'Midwest' for state in midwest} \\\n",
    "                  | {state: 'South' for state in south} \\\n",
    "                  | {state: 'West' for state in west}\n",
    "\n",
    "# Apply this dictionary and create a new column using map.\n",
    "df[\"region\"] = df[\"state\"].map(state_to_region)"
   ]
  },
  {
   "cell_type": "code",
   "execution_count": 52,
   "id": "d2abbf8d-fecd-4c12-a87a-9b9f844740a2",
   "metadata": {},
   "outputs": [
    {
     "data": {
      "text/plain": [
       "(32404859, 40)"
      ]
     },
     "execution_count": 52,
     "metadata": {},
     "output_type": "execute_result"
    }
   ],
   "source": [
    "df.shape"
   ]
  },
  {
   "cell_type": "code",
   "execution_count": 54,
   "id": "f7ea1789-0735-47d3-96aa-039987694b27",
   "metadata": {},
   "outputs": [
    {
     "data": {
      "text/plain": [
       "region\n",
       "South        10791885\n",
       "West          8292913\n",
       "Midwest       7597325\n",
       "Northeast     5722736\n",
       "Name: count, dtype: int64"
      ]
     },
     "execution_count": 54,
     "metadata": {},
     "output_type": "execute_result"
    }
   ],
   "source": [
    "df['region'].value_counts()"
   ]
  },
  {
   "cell_type": "code",
   "execution_count": 8,
   "id": "fe14d543-c9c6-414a-99d6-3b68ebfb480b",
   "metadata": {},
   "outputs": [
    {
     "data": {
      "text/plain": [
       "np.int64(0)"
      ]
     },
     "execution_count": 8,
     "metadata": {},
     "output_type": "execute_result"
    }
   ],
   "source": [
    "#check for unmapped values\n",
    "df['region'].isna().sum()"
   ]
  },
  {
   "cell_type": "markdown",
   "id": "03aedc53-98bb-443c-85cb-154a2a7708f0",
   "metadata": {
    "jp-MarkdownHeadingCollapsed": true
   },
   "source": [
    "### Task 3.2: Determine whether there’s a difference in spending habits between the different U.S. regions."
   ]
  },
  {
   "cell_type": "code",
   "execution_count": 9,
   "id": "c5324e63-a54e-4de6-8808-a0781e42950a",
   "metadata": {},
   "outputs": [
    {
     "data": {
      "text/html": [
       "<div>\n",
       "<style scoped>\n",
       "    .dataframe tbody tr th:only-of-type {\n",
       "        vertical-align: middle;\n",
       "    }\n",
       "\n",
       "    .dataframe tbody tr th {\n",
       "        vertical-align: top;\n",
       "    }\n",
       "\n",
       "    .dataframe thead th {\n",
       "        text-align: right;\n",
       "    }\n",
       "</style>\n",
       "<table border=\"1\" class=\"dataframe\">\n",
       "  <thead>\n",
       "    <tr style=\"text-align: right;\">\n",
       "      <th>spending_flag</th>\n",
       "      <th>High spender</th>\n",
       "      <th>Low spender</th>\n",
       "    </tr>\n",
       "    <tr>\n",
       "      <th>region</th>\n",
       "      <th></th>\n",
       "      <th></th>\n",
       "    </tr>\n",
       "  </thead>\n",
       "  <tbody>\n",
       "    <tr>\n",
       "      <th>Midwest</th>\n",
       "      <td>155975</td>\n",
       "      <td>7441350</td>\n",
       "    </tr>\n",
       "    <tr>\n",
       "      <th>Northeast</th>\n",
       "      <td>108225</td>\n",
       "      <td>5614511</td>\n",
       "    </tr>\n",
       "    <tr>\n",
       "      <th>South</th>\n",
       "      <td>209691</td>\n",
       "      <td>10582194</td>\n",
       "    </tr>\n",
       "    <tr>\n",
       "      <th>West</th>\n",
       "      <td>160354</td>\n",
       "      <td>8132559</td>\n",
       "    </tr>\n",
       "  </tbody>\n",
       "</table>\n",
       "</div>"
      ],
      "text/plain": [
       "spending_flag  High spender  Low spender\n",
       "region                                  \n",
       "Midwest              155975      7441350\n",
       "Northeast            108225      5614511\n",
       "South                209691     10582194\n",
       "West                 160354      8132559"
      ]
     },
     "execution_count": 9,
     "metadata": {},
     "output_type": "execute_result"
    }
   ],
   "source": [
    "pd.crosstab(df['region'], df['spending_flag'])"
   ]
  },
  {
   "cell_type": "code",
   "execution_count": 56,
   "id": "a70d7b0c-1d92-4b65-b81f-d115a39251b1",
   "metadata": {},
   "outputs": [],
   "source": [
    "crosstab = pd.crosstab(df['region'], df['spending_flag'], normalize='index')"
   ]
  },
  {
   "cell_type": "code",
   "execution_count": 57,
   "id": "4be147da-8945-425b-9d07-71dd79ba035c",
   "metadata": {},
   "outputs": [
    {
     "data": {
      "text/html": [
       "<div>\n",
       "<style scoped>\n",
       "    .dataframe tbody tr th:only-of-type {\n",
       "        vertical-align: middle;\n",
       "    }\n",
       "\n",
       "    .dataframe tbody tr th {\n",
       "        vertical-align: top;\n",
       "    }\n",
       "\n",
       "    .dataframe thead th {\n",
       "        text-align: right;\n",
       "    }\n",
       "</style>\n",
       "<table border=\"1\" class=\"dataframe\">\n",
       "  <thead>\n",
       "    <tr style=\"text-align: right;\">\n",
       "      <th>spending_flag</th>\n",
       "      <th>High spender</th>\n",
       "      <th>Low spender</th>\n",
       "    </tr>\n",
       "    <tr>\n",
       "      <th>region</th>\n",
       "      <th></th>\n",
       "      <th></th>\n",
       "    </tr>\n",
       "  </thead>\n",
       "  <tbody>\n",
       "    <tr>\n",
       "      <th>Midwest</th>\n",
       "      <td>0.020530</td>\n",
       "      <td>0.979470</td>\n",
       "    </tr>\n",
       "    <tr>\n",
       "      <th>Northeast</th>\n",
       "      <td>0.018911</td>\n",
       "      <td>0.981089</td>\n",
       "    </tr>\n",
       "    <tr>\n",
       "      <th>South</th>\n",
       "      <td>0.019430</td>\n",
       "      <td>0.980570</td>\n",
       "    </tr>\n",
       "    <tr>\n",
       "      <th>West</th>\n",
       "      <td>0.019336</td>\n",
       "      <td>0.980664</td>\n",
       "    </tr>\n",
       "  </tbody>\n",
       "</table>\n",
       "</div>"
      ],
      "text/plain": [
       "spending_flag  High spender  Low spender\n",
       "region                                  \n",
       "Midwest            0.020530     0.979470\n",
       "Northeast          0.018911     0.981089\n",
       "South              0.019430     0.980570\n",
       "West               0.019336     0.980664"
      ]
     },
     "execution_count": 57,
     "metadata": {},
     "output_type": "execute_result"
    }
   ],
   "source": [
    "crosstab"
   ]
  },
  {
   "cell_type": "markdown",
   "id": "3afd8f34-3767-49ec-a37a-033cb4a3ed7c",
   "metadata": {},
   "source": [
    "Only very tiny differences -> the highest percentage of big spender is in the midwest with around 2,05% whereas the lowest is in the Northeast with around 1,9%, so a variance of 0,06%."
   ]
  },
  {
   "cell_type": "markdown",
   "id": "6f4cf0e1-916e-4d24-abd4-392d2f7664ed",
   "metadata": {
    "jp-MarkdownHeadingCollapsed": true
   },
   "source": [
    "### Task 4: The Instacart CFO isn’t interested in customers who don’t generate much revenue for the app. \n",
    "Create an exclusion flag for low-activity customers (customers with less than 5 orders) and exclude them from the data. Make sure you export this sample."
   ]
  },
  {
   "cell_type": "code",
   "execution_count": 11,
   "id": "ccb8d6e4-d6e9-4de0-89b5-a78b03e0ed1e",
   "metadata": {},
   "outputs": [
    {
     "data": {
      "text/plain": [
       "exclusion_flag\n",
       "False    24414877\n",
       "True      7989982\n",
       "Name: count, dtype: int64"
      ]
     },
     "execution_count": 11,
     "metadata": {},
     "output_type": "execute_result"
    }
   ],
   "source": [
    "# Create exclusion flag\n",
    "df['exclusion_flag'] = df['order_number'] < 5\n",
    "\n",
    "# Check how many customers will be excluded\n",
    "df['exclusion_flag'].value_counts()"
   ]
  },
  {
   "cell_type": "code",
   "execution_count": 12,
   "id": "6d63c011-e181-4ec3-b8dd-846c84fe00bb",
   "metadata": {
    "scrolled": true
   },
   "outputs": [
    {
     "data": {
      "text/plain": [
       "162631"
      ]
     },
     "execution_count": 12,
     "metadata": {},
     "output_type": "execute_result"
    }
   ],
   "source": [
    "# Filter only active customers with at least 5 orders\n",
    "df_active = df[df['exclusion_flag'] == False].copy()\n",
    "\n",
    "# Quick check\n",
    "df_active['user_id'].nunique()"
   ]
  },
  {
   "cell_type": "code",
   "execution_count": 13,
   "id": "bcdd2778-41c0-40a7-87ca-e0259cd7d819",
   "metadata": {},
   "outputs": [],
   "source": [
    "# Export data to pkl \n",
    "df_active.to_pickle(os.path.join(path, '02 Data','Prepared Data', 'ords_prods_custs_active_users.pkl'))"
   ]
  },
  {
   "cell_type": "markdown",
   "id": "6b9c9367-f12a-4261-b3bc-d68014a59b45",
   "metadata": {
    "jp-MarkdownHeadingCollapsed": true
   },
   "source": [
    "### Task 5: Create a customer profiling variable\n",
    "Based on age, income, certain goods in the “department_id” column, and number of dependents.\n",
    "<br>You might also use the “orders_day_of_week” and “order_hour_of_day” columns if you can think of a way they would impact customer profiles. (Hint: As an example, try thinking of what characteristics would lead you to the profile “Single adult” or “Young parent.”)"
   ]
  },
  {
   "cell_type": "code",
   "execution_count": 14,
   "id": "d77cadf3-1246-4163-8273-ee17e8bb9a32",
   "metadata": {},
   "outputs": [
    {
     "data": {
      "text/plain": [
       "array([19, 13,  7,  1, 11, 16, 17, 18, 12,  9,  8, 14, 15,  4, 21,  6, 20,\n",
       "        5,  3,  2, 10])"
      ]
     },
     "execution_count": 14,
     "metadata": {},
     "output_type": "execute_result"
    }
   ],
   "source": [
    "df['department_id'].unique()"
   ]
  },
  {
   "cell_type": "code",
   "execution_count": 15,
   "id": "636c9546-5f38-48ac-a853-1fb2b9f05484",
   "metadata": {},
   "outputs": [],
   "source": [
    "# Load the current dataset\n",
    "df_departments = pd.read_csv(os.path.join(path, '02 Data', 'Prepared Data', 'departments_wrangled.csv'), index_col = 0)"
   ]
  },
  {
   "cell_type": "code",
   "execution_count": 16,
   "id": "85455175-46c8-4de9-8646-4a15bce8ee6d",
   "metadata": {},
   "outputs": [
    {
     "data": {
      "text/html": [
       "<div>\n",
       "<style scoped>\n",
       "    .dataframe tbody tr th:only-of-type {\n",
       "        vertical-align: middle;\n",
       "    }\n",
       "\n",
       "    .dataframe tbody tr th {\n",
       "        vertical-align: top;\n",
       "    }\n",
       "\n",
       "    .dataframe thead th {\n",
       "        text-align: right;\n",
       "    }\n",
       "</style>\n",
       "<table border=\"1\" class=\"dataframe\">\n",
       "  <thead>\n",
       "    <tr style=\"text-align: right;\">\n",
       "      <th></th>\n",
       "      <th>department</th>\n",
       "    </tr>\n",
       "  </thead>\n",
       "  <tbody>\n",
       "    <tr>\n",
       "      <th>1</th>\n",
       "      <td>frozen</td>\n",
       "    </tr>\n",
       "    <tr>\n",
       "      <th>2</th>\n",
       "      <td>other</td>\n",
       "    </tr>\n",
       "    <tr>\n",
       "      <th>3</th>\n",
       "      <td>bakery</td>\n",
       "    </tr>\n",
       "    <tr>\n",
       "      <th>4</th>\n",
       "      <td>produce</td>\n",
       "    </tr>\n",
       "    <tr>\n",
       "      <th>5</th>\n",
       "      <td>alcohol</td>\n",
       "    </tr>\n",
       "    <tr>\n",
       "      <th>6</th>\n",
       "      <td>international</td>\n",
       "    </tr>\n",
       "    <tr>\n",
       "      <th>7</th>\n",
       "      <td>beverages</td>\n",
       "    </tr>\n",
       "    <tr>\n",
       "      <th>8</th>\n",
       "      <td>pets</td>\n",
       "    </tr>\n",
       "    <tr>\n",
       "      <th>9</th>\n",
       "      <td>dry goods pasta</td>\n",
       "    </tr>\n",
       "    <tr>\n",
       "      <th>10</th>\n",
       "      <td>bulk</td>\n",
       "    </tr>\n",
       "    <tr>\n",
       "      <th>11</th>\n",
       "      <td>personal care</td>\n",
       "    </tr>\n",
       "    <tr>\n",
       "      <th>12</th>\n",
       "      <td>meat seafood</td>\n",
       "    </tr>\n",
       "    <tr>\n",
       "      <th>13</th>\n",
       "      <td>pantry</td>\n",
       "    </tr>\n",
       "    <tr>\n",
       "      <th>14</th>\n",
       "      <td>breakfast</td>\n",
       "    </tr>\n",
       "    <tr>\n",
       "      <th>15</th>\n",
       "      <td>canned goods</td>\n",
       "    </tr>\n",
       "    <tr>\n",
       "      <th>16</th>\n",
       "      <td>dairy eggs</td>\n",
       "    </tr>\n",
       "    <tr>\n",
       "      <th>17</th>\n",
       "      <td>household</td>\n",
       "    </tr>\n",
       "    <tr>\n",
       "      <th>18</th>\n",
       "      <td>babies</td>\n",
       "    </tr>\n",
       "    <tr>\n",
       "      <th>19</th>\n",
       "      <td>snacks</td>\n",
       "    </tr>\n",
       "    <tr>\n",
       "      <th>20</th>\n",
       "      <td>deli</td>\n",
       "    </tr>\n",
       "    <tr>\n",
       "      <th>21</th>\n",
       "      <td>missing</td>\n",
       "    </tr>\n",
       "  </tbody>\n",
       "</table>\n",
       "</div>"
      ],
      "text/plain": [
       "         department\n",
       "1            frozen\n",
       "2             other\n",
       "3            bakery\n",
       "4           produce\n",
       "5           alcohol\n",
       "6     international\n",
       "7         beverages\n",
       "8              pets\n",
       "9   dry goods pasta\n",
       "10             bulk\n",
       "11    personal care\n",
       "12     meat seafood\n",
       "13           pantry\n",
       "14        breakfast\n",
       "15     canned goods\n",
       "16       dairy eggs\n",
       "17        household\n",
       "18           babies\n",
       "19           snacks\n",
       "20             deli\n",
       "21          missing"
      ]
     },
     "execution_count": 16,
     "metadata": {},
     "output_type": "execute_result"
    }
   ],
   "source": [
    "df_departments"
   ]
  },
  {
   "cell_type": "code",
   "execution_count": 17,
   "id": "51d383f7-9d1c-4092-8e25-e216fbbb59d6",
   "metadata": {},
   "outputs": [],
   "source": [
    "# let's group the departments\n",
    "dept_to_group = {\n",
    "    # Food\n",
    "    1: 'Food',   # frozen\n",
    "    3: 'Food',   # bakery\n",
    "    4: 'Food',   # produce\n",
    "    5: 'Food',   # alcohol\n",
    "    6: 'Food',   # international\n",
    "    7: 'Food',   # beverages\n",
    "    9: 'Food',   # dry goods pasta\n",
    "    10: 'Food',  # bulk\n",
    "    12: 'Food',  # meat seafood\n",
    "    13: 'Food',  # pantry\n",
    "    14: 'Food',  # breakfast\n",
    "    15: 'Food',  # canned goods\n",
    "    16: 'Food',  # dairy eggs\n",
    "    19: 'Food',  # snacks\n",
    "    20: 'Food',  # deli\n",
    "\n",
    "    # Non-Food / Other\n",
    "    2: 'Non-Food',   # other\n",
    "    8: 'Non-Food',   # pets\n",
    "    11: 'Non-Food',  # personal care\n",
    "    17: 'Non-Food',  # household\n",
    "    18: 'Non-Food',  # babies\n",
    "    21: 'Non-Food'   # missing\n",
    "}"
   ]
  },
  {
   "cell_type": "code",
   "execution_count": 18,
   "id": "c375db41-7397-439e-a3f7-e4e7e98ebafd",
   "metadata": {},
   "outputs": [],
   "source": [
    "df['department_group'] = df['department_id'].map(dept_to_group)"
   ]
  },
  {
   "cell_type": "code",
   "execution_count": 51,
   "id": "d995b51d-737a-4721-a9cf-4cd755263a83",
   "metadata": {},
   "outputs": [
    {
     "data": {
      "text/plain": [
       "department_group\n",
       "Food        30591667\n",
       "Non-Food     1813192\n",
       "Name: count, dtype: int64"
      ]
     },
     "execution_count": 51,
     "metadata": {},
     "output_type": "execute_result"
    }
   ],
   "source": [
    "df['department_group'].value_counts()"
   ]
  },
  {
   "cell_type": "code",
   "execution_count": 20,
   "id": "b0c222ca-1ce1-4fc1-abd9-e9e05c30943c",
   "metadata": {},
   "outputs": [],
   "source": [
    "# For each customer, find unique department groups\n",
    "user_mix = df.groupby('user_id')['department_group'].unique()\n",
    "\n",
    "def classify_mix(groups):\n",
    "    if set(groups) == {'Food'}:\n",
    "        return 'Food-only'\n",
    "    elif set(groups) == {'Non-Food'}:\n",
    "        return 'Non-Food-only'\n",
    "    else:\n",
    "        return 'Mixed'\n",
    "\n",
    "user_mix = user_mix.apply(classify_mix).rename('shopping_mix')"
   ]
  },
  {
   "cell_type": "code",
   "execution_count": 21,
   "id": "445e8342-8da4-40a5-afa6-9e79399f9279",
   "metadata": {},
   "outputs": [
    {
     "data": {
      "text/plain": [
       "shopping_mix\n",
       "Mixed            151032\n",
       "Food-only         55035\n",
       "Non-Food-only       142\n",
       "Name: count, dtype: int64"
      ]
     },
     "execution_count": 21,
     "metadata": {},
     "output_type": "execute_result"
    }
   ],
   "source": [
    "user_mix.value_counts()"
   ]
  },
  {
   "cell_type": "markdown",
   "id": "022cc229-4658-441f-8a50-c9611950502b",
   "metadata": {},
   "source": [
    "This looks like we can reduce this to two major segments: Customers who buy only food items and customers who also buy non-food items. The segment for non-food-only is basically non-existent."
   ]
  },
  {
   "cell_type": "code",
   "execution_count": 22,
   "id": "74cc4a07-8a90-4c2a-865a-03c0067e9a62",
   "metadata": {},
   "outputs": [],
   "source": [
    "def classify_mix(groups):\n",
    "    if set(groups) == {'Food'}:\n",
    "        return 'Food-only'\n",
    "    else:\n",
    "        return 'Mixed'   # includes Non-Food-only + true Mixed"
   ]
  },
  {
   "cell_type": "code",
   "execution_count": 23,
   "id": "e213ef19-9c90-4c0a-92f7-d10dcc548b16",
   "metadata": {},
   "outputs": [],
   "source": [
    "user_mix = df.groupby('user_id')['department_group'].unique().apply(classify_mix).rename('shopping_mix')\n"
   ]
  },
  {
   "cell_type": "code",
   "execution_count": 24,
   "id": "bbdfcda2-2cd6-48d8-bb94-5a2bc0765c37",
   "metadata": {},
   "outputs": [],
   "source": [
    "df = df.merge(user_mix, on='user_id')"
   ]
  },
  {
   "cell_type": "code",
   "execution_count": 47,
   "id": "ac6f95d4-2151-4481-a4a2-421159e9e7f3",
   "metadata": {},
   "outputs": [
    {
     "data": {
      "text/plain": [
       "shopping_mix\n",
       "Mixed        151174\n",
       "Food-only     55035\n",
       "Name: count, dtype: int64"
      ]
     },
     "execution_count": 47,
     "metadata": {},
     "output_type": "execute_result"
    }
   ],
   "source": [
    "user_mix.value_counts()"
   ]
  },
  {
   "cell_type": "code",
   "execution_count": 49,
   "id": "ef25c59a-3c4a-4666-b7d6-58ac28272958",
   "metadata": {},
   "outputs": [
    {
     "data": {
      "text/html": [
       "<div>\n",
       "<style scoped>\n",
       "    .dataframe tbody tr th:only-of-type {\n",
       "        vertical-align: middle;\n",
       "    }\n",
       "\n",
       "    .dataframe tbody tr th {\n",
       "        vertical-align: top;\n",
       "    }\n",
       "\n",
       "    .dataframe thead th {\n",
       "        text-align: right;\n",
       "    }\n",
       "</style>\n",
       "<table border=\"1\" class=\"dataframe\">\n",
       "  <thead>\n",
       "    <tr style=\"text-align: right;\">\n",
       "      <th></th>\n",
       "      <th>product_id</th>\n",
       "      <th>product_name</th>\n",
       "      <th>aisle_id</th>\n",
       "      <th>department_id</th>\n",
       "      <th>prices</th>\n",
       "      <th>order_id</th>\n",
       "      <th>user_id</th>\n",
       "      <th>order_number</th>\n",
       "      <th>orders_day_of_week</th>\n",
       "      <th>order_hour_of_day</th>\n",
       "      <th>...</th>\n",
       "      <th>n_dependents</th>\n",
       "      <th>fam_status</th>\n",
       "      <th>income</th>\n",
       "      <th>merging_status</th>\n",
       "      <th>region</th>\n",
       "      <th>exclusion_flag</th>\n",
       "      <th>department_group</th>\n",
       "      <th>shopping_mix</th>\n",
       "      <th>segment</th>\n",
       "      <th>profile</th>\n",
       "    </tr>\n",
       "  </thead>\n",
       "  <tbody>\n",
       "    <tr>\n",
       "      <th>0</th>\n",
       "      <td>1</td>\n",
       "      <td>Chocolate Sandwich Cookies</td>\n",
       "      <td>61</td>\n",
       "      <td>19</td>\n",
       "      <td>5.8</td>\n",
       "      <td>3139998</td>\n",
       "      <td>138</td>\n",
       "      <td>28</td>\n",
       "      <td>6</td>\n",
       "      <td>11</td>\n",
       "      <td>...</td>\n",
       "      <td>1</td>\n",
       "      <td>married</td>\n",
       "      <td>49620</td>\n",
       "      <td>both</td>\n",
       "      <td>Midwest</td>\n",
       "      <td>False</td>\n",
       "      <td>Food</td>\n",
       "      <td>Mixed</td>\n",
       "      <td>Family</td>\n",
       "      <td>Family - Mixed</td>\n",
       "    </tr>\n",
       "    <tr>\n",
       "      <th>1</th>\n",
       "      <td>1</td>\n",
       "      <td>Chocolate Sandwich Cookies</td>\n",
       "      <td>61</td>\n",
       "      <td>19</td>\n",
       "      <td>5.8</td>\n",
       "      <td>1977647</td>\n",
       "      <td>138</td>\n",
       "      <td>30</td>\n",
       "      <td>6</td>\n",
       "      <td>17</td>\n",
       "      <td>...</td>\n",
       "      <td>1</td>\n",
       "      <td>married</td>\n",
       "      <td>49620</td>\n",
       "      <td>both</td>\n",
       "      <td>Midwest</td>\n",
       "      <td>False</td>\n",
       "      <td>Food</td>\n",
       "      <td>Mixed</td>\n",
       "      <td>Family</td>\n",
       "      <td>Family - Mixed</td>\n",
       "    </tr>\n",
       "    <tr>\n",
       "      <th>2</th>\n",
       "      <td>1</td>\n",
       "      <td>Chocolate Sandwich Cookies</td>\n",
       "      <td>61</td>\n",
       "      <td>19</td>\n",
       "      <td>5.8</td>\n",
       "      <td>389851</td>\n",
       "      <td>709</td>\n",
       "      <td>2</td>\n",
       "      <td>0</td>\n",
       "      <td>21</td>\n",
       "      <td>...</td>\n",
       "      <td>2</td>\n",
       "      <td>married</td>\n",
       "      <td>158302</td>\n",
       "      <td>both</td>\n",
       "      <td>Northeast</td>\n",
       "      <td>True</td>\n",
       "      <td>Food</td>\n",
       "      <td>Mixed</td>\n",
       "      <td>Family</td>\n",
       "      <td>Family - Mixed</td>\n",
       "    </tr>\n",
       "    <tr>\n",
       "      <th>3</th>\n",
       "      <td>1</td>\n",
       "      <td>Chocolate Sandwich Cookies</td>\n",
       "      <td>61</td>\n",
       "      <td>19</td>\n",
       "      <td>5.8</td>\n",
       "      <td>652770</td>\n",
       "      <td>764</td>\n",
       "      <td>1</td>\n",
       "      <td>3</td>\n",
       "      <td>13</td>\n",
       "      <td>...</td>\n",
       "      <td>3</td>\n",
       "      <td>married</td>\n",
       "      <td>31308</td>\n",
       "      <td>both</td>\n",
       "      <td>Midwest</td>\n",
       "      <td>True</td>\n",
       "      <td>Food</td>\n",
       "      <td>Mixed</td>\n",
       "      <td>Family</td>\n",
       "      <td>Family - Mixed</td>\n",
       "    </tr>\n",
       "    <tr>\n",
       "      <th>4</th>\n",
       "      <td>1</td>\n",
       "      <td>Chocolate Sandwich Cookies</td>\n",
       "      <td>61</td>\n",
       "      <td>19</td>\n",
       "      <td>5.8</td>\n",
       "      <td>1813452</td>\n",
       "      <td>764</td>\n",
       "      <td>3</td>\n",
       "      <td>4</td>\n",
       "      <td>17</td>\n",
       "      <td>...</td>\n",
       "      <td>3</td>\n",
       "      <td>married</td>\n",
       "      <td>31308</td>\n",
       "      <td>both</td>\n",
       "      <td>Midwest</td>\n",
       "      <td>True</td>\n",
       "      <td>Food</td>\n",
       "      <td>Mixed</td>\n",
       "      <td>Family</td>\n",
       "      <td>Family - Mixed</td>\n",
       "    </tr>\n",
       "  </tbody>\n",
       "</table>\n",
       "<p>5 rows × 40 columns</p>\n",
       "</div>"
      ],
      "text/plain": [
       "   product_id                product_name  aisle_id  department_id  prices  \\\n",
       "0           1  Chocolate Sandwich Cookies        61             19     5.8   \n",
       "1           1  Chocolate Sandwich Cookies        61             19     5.8   \n",
       "2           1  Chocolate Sandwich Cookies        61             19     5.8   \n",
       "3           1  Chocolate Sandwich Cookies        61             19     5.8   \n",
       "4           1  Chocolate Sandwich Cookies        61             19     5.8   \n",
       "\n",
       "   order_id  user_id  order_number  orders_day_of_week  order_hour_of_day  \\\n",
       "0   3139998      138            28                   6                 11   \n",
       "1   1977647      138            30                   6                 17   \n",
       "2    389851      709             2                   0                 21   \n",
       "3    652770      764             1                   3                 13   \n",
       "4   1813452      764             3                   4                 17   \n",
       "\n",
       "   ...  n_dependents  fam_status  income merging_status     region  \\\n",
       "0  ...             1     married   49620           both    Midwest   \n",
       "1  ...             1     married   49620           both    Midwest   \n",
       "2  ...             2     married  158302           both  Northeast   \n",
       "3  ...             3     married   31308           both    Midwest   \n",
       "4  ...             3     married   31308           both    Midwest   \n",
       "\n",
       "  exclusion_flag department_group shopping_mix  segment         profile  \n",
       "0          False             Food        Mixed   Family  Family - Mixed  \n",
       "1          False             Food        Mixed   Family  Family - Mixed  \n",
       "2           True             Food        Mixed   Family  Family - Mixed  \n",
       "3           True             Food        Mixed   Family  Family - Mixed  \n",
       "4           True             Food        Mixed   Family  Family - Mixed  \n",
       "\n",
       "[5 rows x 40 columns]"
      ]
     },
     "execution_count": 49,
     "metadata": {},
     "output_type": "execute_result"
    }
   ],
   "source": [
    "df.head()"
   ]
  },
  {
   "cell_type": "code",
   "execution_count": 25,
   "id": "fcc28895-8d0d-4d05-bb8c-f9f70531463c",
   "metadata": {},
   "outputs": [],
   "source": [
    "df['segment'] = 'Other'  # start with fallback\n",
    "\n",
    "df.loc[(df['age'] < 35) & (df['n_dependents'] == 0), 'segment'] = 'Young Single'\n",
    "df.loc[df['n_dependents'] >= 1, 'segment'] = 'Family'\n",
    "df.loc[(df['age'] >= 50) & (df['n_dependents'] == 0), 'segment'] = 'Older Adult'"
   ]
  },
  {
   "cell_type": "code",
   "execution_count": 26,
   "id": "fa91b464-6f78-4d06-ad3a-8db7653a2d42",
   "metadata": {},
   "outputs": [
    {
     "data": {
      "text/plain": [
       "segment\n",
       "Family          24307356\n",
       "Older Adult      4047975\n",
       "Young Single     2156927\n",
       "Other            1892601\n",
       "Name: count, dtype: int64"
      ]
     },
     "execution_count": 26,
     "metadata": {},
     "output_type": "execute_result"
    }
   ],
   "source": [
    "df['segment'].value_counts()"
   ]
  },
  {
   "cell_type": "code",
   "execution_count": 27,
   "id": "279c342f-8d4a-4069-bf52-22f88dcccc28",
   "metadata": {},
   "outputs": [],
   "source": [
    "df['profile'] = df['segment'] + \" - \" + df['shopping_mix']"
   ]
  },
  {
   "cell_type": "code",
   "execution_count": 28,
   "id": "c3b3d37e-e478-4388-9774-f9ee2c374780",
   "metadata": {
    "scrolled": true
   },
   "outputs": [
    {
     "name": "stdout",
     "output_type": "stream",
     "text": [
      "profile\n",
      "Family - Mixed              113430\n",
      "Family - Food-only           41177\n",
      "Older Adult - Mixed          18815\n",
      "Young Single - Mixed         10052\n",
      "Other - Mixed                 8877\n",
      "Older Adult - Food-only       6879\n",
      "Young Single - Food-only      3744\n",
      "Other - Food-only             3235\n",
      "Name: count, dtype: int64\n"
     ]
    }
   ],
   "source": [
    "# counting how many unique users belong to each profile\n",
    "profile_counts = (\n",
    "    df.groupby('user_id')['profile']\n",
    "             .first()          # pick the first profile per user\n",
    "             .value_counts(dropna=False)\n",
    ")\n",
    "print(profile_counts)"
   ]
  },
  {
   "cell_type": "markdown",
   "id": "031014a1-4ce6-4c1e-a209-2e2d9ef59387",
   "metadata": {
    "jp-MarkdownHeadingCollapsed": true
   },
   "source": [
    "### Task 6: Create a Visualization for Profile Segments"
   ]
  },
  {
   "cell_type": "code",
   "execution_count": 29,
   "id": "35c5d260-5dfc-4f3d-8c0a-a05bd0daa305",
   "metadata": {
    "scrolled": true
   },
   "outputs": [
    {
     "data": {
      "image/png": "[encoded data removed]",
      "text/plain": [
       "<Figure size 1000x600 with 1 Axes>"
      ]
     },
     "metadata": {},
     "output_type": "display_data"
    }
   ],
   "source": [
    "colors = sns.color_palette(\"Blues\", n_colors=len(profile_counts))[::-1]\n",
    "\n",
    "plt.figure(figsize=(10, 6))\n",
    "bars = plt.bar(profile_counts.index, profile_counts.values, color=colors)\n",
    "plt.bar_label(bars, fmt='%.0f', padding=3)\n",
    "\n",
    "# Auto labels\n",
    "plt.bar_label(bars, fmt='%.0f', padding=3)\n",
    "\n",
    "plt.title('Distribution of Customer Profiles', fontsize=14, weight='bold')\n",
    "plt.ylabel('Number of Customers', fontsize=12)\n",
    "plt.xticks(rotation=15)\n",
    "plt.tight_layout()\n",
    "plt.savefig(os.path.join(path, '04 Analysis','Visualizations', 'Distribution of customer profiles.png'))\n",
    "plt.show()"
   ]
  },
  {
   "cell_type": "markdown",
   "id": "235ef8dc-7836-40f6-aab7-7facc3029015",
   "metadata": {
    "jp-MarkdownHeadingCollapsed": true
   },
   "source": [
    "### Task 7: Aggregate the max, mean, and min variables on a customer-profile level for usage frequency and expenditure"
   ]
  },
  {
   "cell_type": "code",
   "execution_count": 36,
   "id": "4123296c-c932-4e10-aab4-822f0064d1f4",
   "metadata": {},
   "outputs": [
    {
     "name": "stdout",
     "output_type": "stream",
     "text": [
      "product_id                                         1\n",
      "product_name              Chocolate Sandwich Cookies\n",
      "aisle_id                                          61\n",
      "department_id                                     19\n",
      "prices                                           5.8\n",
      "order_id                                     3139998\n",
      "user_id                                          138\n",
      "order_number                                      28\n",
      "orders_day_of_week                                 6\n",
      "order_hour_of_day                                 11\n",
      "days_since_prior_order                           3.0\n",
      "add_to_cart_order                                  5\n",
      "reordered                                          0\n",
      "_merge                                          both\n",
      "price_range_loc                    Mid-range product\n",
      "busiest_day                           Regularly busy\n",
      "busiest_days                          Regularly busy\n",
      "busiest_hours                            Most orders\n",
      "max_order                                         32\n",
      "loyalty_flag                        Regular customer\n",
      "avg_spend_user                              6.935811\n",
      "spending_flag                            Low spender\n",
      "last_order_median                                8.0\n",
      "active_customer_status             Frequent customer\n",
      "first_name                                   Charles\n",
      "last_name                                        Cox\n",
      "gender                                          Male\n",
      "state                                      Minnesota\n",
      "age                                               81\n",
      "date_joined                      2019-08-01 00:00:00\n",
      "n_dependents                                       1\n",
      "fam_status                                   married\n",
      "income                                         49620\n",
      "merging_status                                  both\n",
      "region                                       Midwest\n",
      "exclusion_flag                                 False\n",
      "department_group                                Food\n",
      "shopping_mix                                   Mixed\n",
      "segment                                       Family\n",
      "profile                               Family - Mixed\n"
     ]
    }
   ],
   "source": [
    "print(df.iloc[0].to_string())"
   ]
  },
  {
   "cell_type": "code",
   "execution_count": 39,
   "id": "8f66eedf-a7f6-4dfb-a603-9c761f5df875",
   "metadata": {
    "scrolled": true
   },
   "outputs": [
    {
     "data": {
      "text/html": [
       "<div>\n",
       "<style scoped>\n",
       "    .dataframe tbody tr th:only-of-type {\n",
       "        vertical-align: middle;\n",
       "    }\n",
       "\n",
       "    .dataframe tbody tr th {\n",
       "        vertical-align: top;\n",
       "    }\n",
       "\n",
       "    .dataframe thead tr th {\n",
       "        text-align: left;\n",
       "    }\n",
       "\n",
       "    .dataframe thead tr:last-of-type th {\n",
       "        text-align: right;\n",
       "    }\n",
       "</style>\n",
       "<table border=\"1\" class=\"dataframe\">\n",
       "  <thead>\n",
       "    <tr>\n",
       "      <th></th>\n",
       "      <th colspan=\"8\" halign=\"left\">avg_spend_user</th>\n",
       "      <th colspan=\"8\" halign=\"left\">last_order_median</th>\n",
       "    </tr>\n",
       "    <tr>\n",
       "      <th></th>\n",
       "      <th>count</th>\n",
       "      <th>mean</th>\n",
       "      <th>std</th>\n",
       "      <th>min</th>\n",
       "      <th>25%</th>\n",
       "      <th>50%</th>\n",
       "      <th>75%</th>\n",
       "      <th>max</th>\n",
       "      <th>count</th>\n",
       "      <th>mean</th>\n",
       "      <th>std</th>\n",
       "      <th>min</th>\n",
       "      <th>25%</th>\n",
       "      <th>50%</th>\n",
       "      <th>75%</th>\n",
       "      <th>max</th>\n",
       "    </tr>\n",
       "    <tr>\n",
       "      <th>profile</th>\n",
       "      <th></th>\n",
       "      <th></th>\n",
       "      <th></th>\n",
       "      <th></th>\n",
       "      <th></th>\n",
       "      <th></th>\n",
       "      <th></th>\n",
       "      <th></th>\n",
       "      <th></th>\n",
       "      <th></th>\n",
       "      <th></th>\n",
       "      <th></th>\n",
       "      <th></th>\n",
       "      <th></th>\n",
       "      <th></th>\n",
       "      <th></th>\n",
       "    </tr>\n",
       "  </thead>\n",
       "  <tbody>\n",
       "    <tr>\n",
       "      <th>Family - Food-only</th>\n",
       "      <td>2697685.0</td>\n",
       "      <td>9.79</td>\n",
       "      <td>59.70</td>\n",
       "      <td>1.10</td>\n",
       "      <td>7.22</td>\n",
       "      <td>7.84</td>\n",
       "      <td>8.40</td>\n",
       "      <td>12506.92</td>\n",
       "      <td>2697685.0</td>\n",
       "      <td>14.44</td>\n",
       "      <td>8.76</td>\n",
       "      <td>0.0</td>\n",
       "      <td>7.0</td>\n",
       "      <td>12.0</td>\n",
       "      <td>21.0</td>\n",
       "      <td>30.0</td>\n",
       "    </tr>\n",
       "    <tr>\n",
       "      <th>Family - Mixed</th>\n",
       "      <td>21609671.0</td>\n",
       "      <td>12.20</td>\n",
       "      <td>76.60</td>\n",
       "      <td>1.00</td>\n",
       "      <td>7.40</td>\n",
       "      <td>7.82</td>\n",
       "      <td>8.24</td>\n",
       "      <td>11772.10</td>\n",
       "      <td>21609666.0</td>\n",
       "      <td>9.90</td>\n",
       "      <td>6.74</td>\n",
       "      <td>0.0</td>\n",
       "      <td>6.0</td>\n",
       "      <td>7.0</td>\n",
       "      <td>12.0</td>\n",
       "      <td>30.0</td>\n",
       "    </tr>\n",
       "    <tr>\n",
       "      <th>Older Adult - Food-only</th>\n",
       "      <td>461199.0</td>\n",
       "      <td>8.96</td>\n",
       "      <td>42.11</td>\n",
       "      <td>1.10</td>\n",
       "      <td>7.20</td>\n",
       "      <td>7.84</td>\n",
       "      <td>8.42</td>\n",
       "      <td>6260.03</td>\n",
       "      <td>461199.0</td>\n",
       "      <td>14.06</td>\n",
       "      <td>8.69</td>\n",
       "      <td>0.0</td>\n",
       "      <td>7.0</td>\n",
       "      <td>11.0</td>\n",
       "      <td>20.0</td>\n",
       "      <td>30.0</td>\n",
       "    </tr>\n",
       "    <tr>\n",
       "      <th>Older Adult - Mixed</th>\n",
       "      <td>3586776.0</td>\n",
       "      <td>11.82</td>\n",
       "      <td>87.20</td>\n",
       "      <td>1.00</td>\n",
       "      <td>7.41</td>\n",
       "      <td>7.82</td>\n",
       "      <td>8.24</td>\n",
       "      <td>14042.51</td>\n",
       "      <td>3586776.0</td>\n",
       "      <td>9.80</td>\n",
       "      <td>6.73</td>\n",
       "      <td>0.0</td>\n",
       "      <td>6.0</td>\n",
       "      <td>7.0</td>\n",
       "      <td>12.0</td>\n",
       "      <td>30.0</td>\n",
       "    </tr>\n",
       "    <tr>\n",
       "      <th>Other - Food-only</th>\n",
       "      <td>217909.0</td>\n",
       "      <td>11.02</td>\n",
       "      <td>144.49</td>\n",
       "      <td>1.10</td>\n",
       "      <td>7.20</td>\n",
       "      <td>7.84</td>\n",
       "      <td>8.41</td>\n",
       "      <td>25005.42</td>\n",
       "      <td>217909.0</td>\n",
       "      <td>14.26</td>\n",
       "      <td>8.69</td>\n",
       "      <td>0.0</td>\n",
       "      <td>7.0</td>\n",
       "      <td>12.0</td>\n",
       "      <td>20.0</td>\n",
       "      <td>30.0</td>\n",
       "    </tr>\n",
       "    <tr>\n",
       "      <th>Other - Mixed</th>\n",
       "      <td>1674692.0</td>\n",
       "      <td>13.76</td>\n",
       "      <td>128.67</td>\n",
       "      <td>2.17</td>\n",
       "      <td>7.40</td>\n",
       "      <td>7.82</td>\n",
       "      <td>8.24</td>\n",
       "      <td>15006.94</td>\n",
       "      <td>1674692.0</td>\n",
       "      <td>9.92</td>\n",
       "      <td>6.74</td>\n",
       "      <td>0.0</td>\n",
       "      <td>6.0</td>\n",
       "      <td>7.0</td>\n",
       "      <td>12.0</td>\n",
       "      <td>30.0</td>\n",
       "    </tr>\n",
       "    <tr>\n",
       "      <th>Young Single - Food-only</th>\n",
       "      <td>245040.0</td>\n",
       "      <td>11.19</td>\n",
       "      <td>63.74</td>\n",
       "      <td>1.00</td>\n",
       "      <td>7.23</td>\n",
       "      <td>7.81</td>\n",
       "      <td>8.37</td>\n",
       "      <td>2264.23</td>\n",
       "      <td>245040.0</td>\n",
       "      <td>14.57</td>\n",
       "      <td>8.70</td>\n",
       "      <td>0.0</td>\n",
       "      <td>7.0</td>\n",
       "      <td>12.5</td>\n",
       "      <td>21.0</td>\n",
       "      <td>30.0</td>\n",
       "    </tr>\n",
       "    <tr>\n",
       "      <th>Young Single - Mixed</th>\n",
       "      <td>1911887.0</td>\n",
       "      <td>12.29</td>\n",
       "      <td>118.27</td>\n",
       "      <td>2.22</td>\n",
       "      <td>7.40</td>\n",
       "      <td>7.83</td>\n",
       "      <td>8.21</td>\n",
       "      <td>8794.88</td>\n",
       "      <td>1911887.0</td>\n",
       "      <td>9.95</td>\n",
       "      <td>6.69</td>\n",
       "      <td>0.0</td>\n",
       "      <td>6.0</td>\n",
       "      <td>7.0</td>\n",
       "      <td>12.0</td>\n",
       "      <td>30.0</td>\n",
       "    </tr>\n",
       "  </tbody>\n",
       "</table>\n",
       "</div>"
      ],
      "text/plain": [
       "                         avg_spend_user                                   \\\n",
       "                                  count   mean     std   min   25%   50%   \n",
       "profile                                                                    \n",
       "Family - Food-only            2697685.0   9.79   59.70  1.10  7.22  7.84   \n",
       "Family - Mixed               21609671.0  12.20   76.60  1.00  7.40  7.82   \n",
       "Older Adult - Food-only        461199.0   8.96   42.11  1.10  7.20  7.84   \n",
       "Older Adult - Mixed           3586776.0  11.82   87.20  1.00  7.41  7.82   \n",
       "Other - Food-only              217909.0  11.02  144.49  1.10  7.20  7.84   \n",
       "Other - Mixed                 1674692.0  13.76  128.67  2.17  7.40  7.82   \n",
       "Young Single - Food-only       245040.0  11.19   63.74  1.00  7.23  7.81   \n",
       "Young Single - Mixed          1911887.0  12.29  118.27  2.22  7.40  7.83   \n",
       "\n",
       "                                         last_order_median                    \\\n",
       "                           75%       max             count   mean   std  min   \n",
       "profile                                                                        \n",
       "Family - Food-only        8.40  12506.92         2697685.0  14.44  8.76  0.0   \n",
       "Family - Mixed            8.24  11772.10        21609666.0   9.90  6.74  0.0   \n",
       "Older Adult - Food-only   8.42   6260.03          461199.0  14.06  8.69  0.0   \n",
       "Older Adult - Mixed       8.24  14042.51         3586776.0   9.80  6.73  0.0   \n",
       "Other - Food-only         8.41  25005.42          217909.0  14.26  8.69  0.0   \n",
       "Other - Mixed             8.24  15006.94         1674692.0   9.92  6.74  0.0   \n",
       "Young Single - Food-only  8.37   2264.23          245040.0  14.57  8.70  0.0   \n",
       "Young Single - Mixed      8.21   8794.88         1911887.0   9.95  6.69  0.0   \n",
       "\n",
       "                                                 \n",
       "                          25%   50%   75%   max  \n",
       "profile                                          \n",
       "Family - Food-only        7.0  12.0  21.0  30.0  \n",
       "Family - Mixed            6.0   7.0  12.0  30.0  \n",
       "Older Adult - Food-only   7.0  11.0  20.0  30.0  \n",
       "Older Adult - Mixed       6.0   7.0  12.0  30.0  \n",
       "Other - Food-only         7.0  12.0  20.0  30.0  \n",
       "Other - Mixed             6.0   7.0  12.0  30.0  \n",
       "Young Single - Food-only  7.0  12.5  21.0  30.0  \n",
       "Young Single - Mixed      6.0   7.0  12.0  30.0  "
      ]
     },
     "execution_count": 39,
     "metadata": {},
     "output_type": "execute_result"
    }
   ],
   "source": [
    "agg_profiles = df.groupby('profile')[['avg_spend_user', 'last_order_median']].describe()\n",
    "agg_profiles.round(2)"
   ]
  },
  {
   "cell_type": "code",
   "execution_count": 61,
   "id": "0bb3e60c-85c3-4c8f-9a47-75810a9d9c04",
   "metadata": {},
   "outputs": [],
   "source": [
    "agg_profiles.to_excel(os.path.join(path, '04 Analysis','Visualizations','agg_profiles.xlsx'))"
   ]
  },
  {
   "cell_type": "markdown",
   "id": "cae42620-6b5b-4d44-b8ee-2c2c3de941ab",
   "metadata": {
    "jp-MarkdownHeadingCollapsed": true
   },
   "source": [
    "### Task 8: Compare your customer profiles with regions and departments. Can you identify a link between them? Customers may demonstrate different behaviors across regions, which could make this information important.\n"
   ]
  },
  {
   "cell_type": "markdown",
   "id": "30cd4686-2997-4881-be71-76c0e30c4856",
   "metadata": {},
   "source": [
    "My customer profiles already feature the information about the departments. \n",
    "I will now be looking at the average order hours, spending habits and how often they shop (loyalty)."
   ]
  },
  {
   "cell_type": "code",
   "execution_count": 41,
   "id": "24c4b117-1eda-48d9-8697-acdeac4c9f2a",
   "metadata": {},
   "outputs": [],
   "source": [
    "# Count unique users in each region/segment combination\n",
    "counts = df.groupby(['region', 'segment'])['user_id'].nunique().unstack(fill_value=0)"
   ]
  },
  {
   "cell_type": "code",
   "execution_count": 43,
   "id": "f75f5d77-ff7c-4d85-baee-02cffbdbad62",
   "metadata": {},
   "outputs": [
    {
     "name": "stdout",
     "output_type": "stream",
     "text": [
      "segment    Family  Older Adult  Other  Young Single\n",
      "region                                             \n",
      "Midwest     36446         5996   2927          3150\n",
      "Northeast   27191         4574   2101          2522\n",
      "South       51574         8477   4038          4648\n",
      "West        39396         6647   3046          3476\n"
     ]
    }
   ],
   "source": [
    "print(counts)"
   ]
  },
  {
   "cell_type": "code",
   "execution_count": 44,
   "id": "a19dd085-de98-4b25-b4aa-b67694481761",
   "metadata": {},
   "outputs": [
    {
     "data": {
      "image/png": "[encoded data removed]",
      "text/plain": [
       "<Figure size 1000x600 with 1 Axes>"
      ]
     },
     "metadata": {},
     "output_type": "display_data"
    }
   ],
   "source": [
    "counts.plot(\n",
    "    kind='bar',\n",
    "    stacked=True,\n",
    "    figsize=(10, 6),\n",
    "    colormap='Set2'   # nice professional colors\n",
    ")\n",
    "\n",
    "plt.title('Unique Customers per Region by Segment', fontsize=14, weight='bold')\n",
    "plt.ylabel('Number of Unique Customers', fontsize=12)\n",
    "plt.xlabel('Region')\n",
    "plt.legend(title='Segment')\n",
    "plt.tight_layout()\n",
    "plt.show()"
   ]
  },
  {
   "cell_type": "code",
   "execution_count": 68,
   "id": "f519157e-9d5a-4155-b1cc-dc59ab8b9aa8",
   "metadata": {},
   "outputs": [
    {
     "data": {
      "image/png": "[encoded data removed]",
      "text/plain": [
       "<Figure size 1000x600 with 1 Axes>"
      ]
     },
     "metadata": {},
     "output_type": "display_data"
    }
   ],
   "source": [
    "# tried to come up with a visualization that also features the percentage a certain segment represents in each region\n",
    "ax = counts.plot(\n",
    "    kind='bar',\n",
    "    stacked=True,\n",
    "    figsize=(10, 6),\n",
    "    colormap='Set2'\n",
    ")\n",
    "\n",
    "# Add percentage labels\n",
    "for container in ax.containers:\n",
    "    # get the total height of each bar (per region) to ensure we only add labels to segments that are represented\n",
    "    labels = []\n",
    "    for i, bar in enumerate(container):\n",
    "        height = bar.get_height()\n",
    "        if height > 0:\n",
    "            # percentage = this segment / total of that bar\n",
    "            total = counts.sum(axis=1).iloc[i]\n",
    "            pct = height / total * 100\n",
    "            labels.append(f\"{pct:.1f}%\")\n",
    "        else:\n",
    "            labels.append(\"\")  # no label for 0-height bars\n",
    "\n",
    "    ax.bar_label(container, labels=labels, label_type=\"center\", fontsize=9, color=\"black\")\n",
    "\n",
    "plt.title('Unique Customers per Region by Segment', fontsize=14, weight='bold')\n",
    "plt.ylabel('Number of Unique Customers', fontsize=12)\n",
    "plt.xlabel('Region')\n",
    "plt.legend(title='Segment')\n",
    "plt.tight_layout()\n",
    "\n",
    "save_path = os.path.join(path, '04 Analysis', 'Visualizations', 'region_segment_share.png')\n",
    "plt.savefig(save_path, dpi=300, bbox_inches='tight')\n",
    "\n",
    "plt.show()"
   ]
  },
  {
   "cell_type": "code",
   "execution_count": null,
   "id": "b192a769-15ea-40fd-a511-a71d0f6b7ff6",
   "metadata": {},
   "outputs": [],
   "source": [
    "import seaborn as sns\n",
    "import matplotlib.pyplot as plt"
   ]
  },
  {
   "cell_type": "code",
   "execution_count": null,
   "id": "50778a3e-f61d-457b-a9f3-c08e10553f43",
   "metadata": {},
   "outputs": [],
   "source": [
    "crosstab = pd.crosstab(df_active['profile_segment'], df_active['region'])"
   ]
  },
  {
   "cell_type": "code",
   "execution_count": null,
   "id": "351702ff-a01d-4577-8cbc-7251445c4a12",
   "metadata": {},
   "outputs": [],
   "source": [
    "# Step 7: Create Heatmap\n",
    "plt.figure(figsize=(10, 6))\n",
    "sns.heatmap(crosstab, annot=True, fmt='d', cmap='OrRd', linewidths=.5)\n",
    "\n",
    "plt.title('Heatmap of Customer Profile by Region', fontsize=14, fontweight='bold')\n",
    "plt.xlabel('Region', fontsize=12)\n",
    "plt.ylabel('Customer Profile Segment', fontsize=12)\n",
    "plt.xticks(rotation=45)\n",
    "plt.yticks(rotation=0)\n",
    "plt.tight_layout()\n",
    "\n",
    "# Save the figure\n",
    "plt.savefig('/Users/canancengel/A4_Instacart Basket Analysis/03_Analysis/Visualizations/profile_region_heatmap.png')\n",
    "plt.show()"
   ]
  },
  {
   "cell_type": "markdown",
   "id": "c8d2d83c-1ba0-4024-be1f-9afd5fa5bf59",
   "metadata": {
    "jp-MarkdownHeadingCollapsed": true
   },
   "source": [
    "We can see the absolute and relative size of each segment in each region. We will skip the Other segment in our interpretation as it only served as a \"catch all\" group.\n",
    "\n",
    "Family is by far the biggest group across all regions, accounting for 75% (+/- 0,25% Variance across regions). \n",
    "Older Adults are second biggest with around 12,5% (+/- 0,2% Variance across regions).\n",
    "Young singles only make up around 6.7% (+/- 0,2% Variance across regions).\n",
    "\n",
    "In absolute numbers we can see that the southern region is the biggest with roughly 70k unique users, followed by West and Midwest with around 50k each. Northeast features the least customers, close to 40k users.\n",
    "\n",
    "This information is of relatively little practical use. In practice we would have to deep dive into the Family segment as it makes up so much of our customer base."
   ]
  },
  {
   "cell_type": "markdown",
   "id": "dc011ba6-5aa4-4618-af9c-0f7008558623",
   "metadata": {
    "jp-MarkdownHeadingCollapsed": true
   },
   "source": [
    "### Task 9: Export Suitable Charts"
   ]
  },
  {
   "cell_type": "code",
   "execution_count": 69,
   "id": "e6a6df14-55d9-4dd3-b390-0e89affe44d8",
   "metadata": {},
   "outputs": [],
   "source": [
    "# task 3.2, not a real visualization but saved if needed in the future\n",
    "crosstab.to_excel(os.path.join(path, '04 Analysis','Visualizations','regional_spending_habits.xlsx'))"
   ]
  },
  {
   "cell_type": "code",
   "execution_count": 58,
   "id": "b43daa9a-0eb2-4d6f-95fe-fd2882086824",
   "metadata": {},
   "outputs": [],
   "source": [
    "# task 6\n",
    "# Already saved \"Distribution of customer profiles.png\""
   ]
  },
  {
   "cell_type": "code",
   "execution_count": 62,
   "id": "0b4880ae-b943-489f-ad1c-279fc3b4f27f",
   "metadata": {},
   "outputs": [],
   "source": [
    "# task 7\n",
    "# Already saved as \"agg_profiles.xlsx\""
   ]
  },
  {
   "cell_type": "code",
   "execution_count": 63,
   "id": "9d8a5ecf-9deb-402b-ae6b-d662e7513023",
   "metadata": {},
   "outputs": [
    {
     "data": {
      "text/plain": [
       "<Figure size 640x480 with 0 Axes>"
      ]
     },
     "metadata": {},
     "output_type": "display_data"
    }
   ],
   "source": [
    "# task 6\n",
    "# Already saved as \"region_segment_share.png\""
   ]
  },
  {
   "cell_type": "markdown",
   "id": "796e5150-f725-4b7b-a427-d385512e05b8",
   "metadata": {
    "jp-MarkdownHeadingCollapsed": true
   },
   "source": [
    "### Task 10: Export dataframe"
   ]
  },
  {
   "cell_type": "code",
   "execution_count": 67,
   "id": "4876d77d-37f5-4dcc-acfc-cb66f4668538",
   "metadata": {},
   "outputs": [],
   "source": [
    "# save final dataframe to .pkl\n",
    "df.to_pickle(os.path.join(path, '02 Data', 'Prepared Data', 'final_data_set_410.pkl'))"
   ]
  },
  {
   "cell_type": "markdown",
   "id": "8bd9bf7a-3363-4a9f-8ed0-668110f6cf36",
   "metadata": {},
   "source": [
    "Script is tidied up, dataset exported, notebook saved"
   ]
  }
 ],
 "metadata": {
  "kernelspec": {
   "display_name": "Python [conda env:base] *",
   "language": "python",
   "name": "conda-base-py"
  },
  "language_info": {
   "codemirror_mode": {
    "name": "ipython",
    "version": 3
   },
   "file_extension": ".py",
   "mimetype": "text/x-python",
   "name": "python",
   "nbconvert_exporter": "python",
   "pygments_lexer": "ipython3",
   "version": "3.13.5"
  }
 },
 "nbformat": 4,
 "nbformat_minor": 5
}
