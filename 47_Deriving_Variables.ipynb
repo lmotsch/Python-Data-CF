{
 "cells": [
  {
   "cell_type": "markdown",
   "id": "02e84ebc-e470-4e2c-9b55-a78d797026b2",
   "metadata": {},
   "source": [
    "## Importing Libraries"
   ]
  },
  {
   "cell_type": "code",
   "execution_count": 1,
   "id": "14133ae1-5ca6-4162-9366-6cd0adf98c3d",
   "metadata": {},
   "outputs": [],
   "source": "# Step 1: Importing necessary libraries\nimport pandas as pd\nimport numpy as np\nimport os\n"
  },
  {
   "cell_type": "markdown",
   "id": "b7eca018-a1d6-4da5-8906-af918ac07cc3",
   "metadata": {},
   "source": [
    "## Importing Data"
   ]
  },
  {
   "cell_type": "code",
   "execution_count": 2,
   "id": "9a3c6ed0-8da1-404e-8308-1b000fc71338",
   "metadata": {},
   "outputs": [],
   "source": "path = '/Users/lpm/Downloads/CF_2_Data Immersion/4 Python/Instacart Basket Analysis'"
  },
  {
   "cell_type": "code",
   "execution_count": 3,
   "id": "be83dc42-5004-4c2e-a7fc-12802ccfe62b",
   "metadata": {},
   "outputs": [
    {
     "data": {
      "text/plain": [
       "'/Users/lpm/Downloads/CF_2_Data Immersion/4 Python/Instacart Basket Analysis'"
      ]
     },
     "execution_count": 3,
     "metadata": {},
     "output_type": "execute_result"
    }
   ],
   "source": "path"
  },
  {
   "cell_type": "code",
   "execution_count": 4,
   "id": "b6f03f4a-04eb-4a47-8134-31d00d1e1d2e",
   "metadata": {},
   "outputs": [],
   "source": "df_ords_prods_merge = pd.read_pickle(os.path.join(path, '02 Data', 'Prepared Data', 'ords_prods_merge.pkl'))"
  },
  {
   "cell_type": "code",
   "execution_count": 5,
   "id": "7d02b633-1594-4af2-b0f3-9aff8b52ac4f",
   "metadata": {},
   "outputs": [
    {
     "data": {
      "text/html": [
       "<div>\n",
       "<style scoped>\n",
       "    .dataframe tbody tr th:only-of-type {\n",
       "        vertical-align: middle;\n",
       "    }\n",
       "\n",
       "    .dataframe tbody tr th {\n",
       "        vertical-align: top;\n",
       "    }\n",
       "\n",
       "    .dataframe thead th {\n",
       "        text-align: right;\n",
       "    }\n",
       "</style>\n",
       "<table border=\"1\" class=\"dataframe\">\n",
       "  <thead>\n",
       "    <tr style=\"text-align: right;\">\n",
       "      <th></th>\n",
       "      <th>product_id</th>\n",
       "      <th>product_name</th>\n",
       "      <th>aisle_id</th>\n",
       "      <th>department_id</th>\n",
       "      <th>prices</th>\n",
       "      <th>order_id</th>\n",
       "      <th>user_id</th>\n",
       "      <th>order_number</th>\n",
       "      <th>orders_day_of_week</th>\n",
       "      <th>order_hour_of_day</th>\n",
       "      <th>days_since_prior_order</th>\n",
       "      <th>add_to_cart_order</th>\n",
       "      <th>reordered</th>\n",
       "      <th>_merge</th>\n",
       "    </tr>\n",
       "  </thead>\n",
       "  <tbody>\n",
       "    <tr>\n",
       "      <th>0</th>\n",
       "      <td>1</td>\n",
       "      <td>Chocolate Sandwich Cookies</td>\n",
       "      <td>61</td>\n",
       "      <td>19</td>\n",
       "      <td>5.8</td>\n",
       "      <td>3139998</td>\n",
       "      <td>138</td>\n",
       "      <td>28</td>\n",
       "      <td>6</td>\n",
       "      <td>11</td>\n",
       "      <td>3.0</td>\n",
       "      <td>5</td>\n",
       "      <td>0</td>\n",
       "      <td>both</td>\n",
       "    </tr>\n",
       "    <tr>\n",
       "      <th>1</th>\n",
       "      <td>1</td>\n",
       "      <td>Chocolate Sandwich Cookies</td>\n",
       "      <td>61</td>\n",
       "      <td>19</td>\n",
       "      <td>5.8</td>\n",
       "      <td>1977647</td>\n",
       "      <td>138</td>\n",
       "      <td>30</td>\n",
       "      <td>6</td>\n",
       "      <td>17</td>\n",
       "      <td>20.0</td>\n",
       "      <td>1</td>\n",
       "      <td>1</td>\n",
       "      <td>both</td>\n",
       "    </tr>\n",
       "    <tr>\n",
       "      <th>2</th>\n",
       "      <td>1</td>\n",
       "      <td>Chocolate Sandwich Cookies</td>\n",
       "      <td>61</td>\n",
       "      <td>19</td>\n",
       "      <td>5.8</td>\n",
       "      <td>389851</td>\n",
       "      <td>709</td>\n",
       "      <td>2</td>\n",
       "      <td>0</td>\n",
       "      <td>21</td>\n",
       "      <td>6.0</td>\n",
       "      <td>20</td>\n",
       "      <td>0</td>\n",
       "      <td>both</td>\n",
       "    </tr>\n",
       "    <tr>\n",
       "      <th>3</th>\n",
       "      <td>1</td>\n",
       "      <td>Chocolate Sandwich Cookies</td>\n",
       "      <td>61</td>\n",
       "      <td>19</td>\n",
       "      <td>5.8</td>\n",
       "      <td>652770</td>\n",
       "      <td>764</td>\n",
       "      <td>1</td>\n",
       "      <td>3</td>\n",
       "      <td>13</td>\n",
       "      <td>NaN</td>\n",
       "      <td>10</td>\n",
       "      <td>0</td>\n",
       "      <td>both</td>\n",
       "    </tr>\n",
       "    <tr>\n",
       "      <th>4</th>\n",
       "      <td>1</td>\n",
       "      <td>Chocolate Sandwich Cookies</td>\n",
       "      <td>61</td>\n",
       "      <td>19</td>\n",
       "      <td>5.8</td>\n",
       "      <td>1813452</td>\n",
       "      <td>764</td>\n",
       "      <td>3</td>\n",
       "      <td>4</td>\n",
       "      <td>17</td>\n",
       "      <td>9.0</td>\n",
       "      <td>11</td>\n",
       "      <td>1</td>\n",
       "      <td>both</td>\n",
       "    </tr>\n",
       "  </tbody>\n",
       "</table>\n",
       "</div>"
      ],
      "text/plain": [
       "   product_id                product_name  aisle_id  department_id  prices  \\\n",
       "0           1  Chocolate Sandwich Cookies        61             19     5.8   \n",
       "1           1  Chocolate Sandwich Cookies        61             19     5.8   \n",
       "2           1  Chocolate Sandwich Cookies        61             19     5.8   \n",
       "3           1  Chocolate Sandwich Cookies        61             19     5.8   \n",
       "4           1  Chocolate Sandwich Cookies        61             19     5.8   \n",
       "\n",
       "   order_id  user_id  order_number  orders_day_of_week  order_hour_of_day  \\\n",
       "0   3139998      138            28                   6                 11   \n",
       "1   1977647      138            30                   6                 17   \n",
       "2    389851      709             2                   0                 21   \n",
       "3    652770      764             1                   3                 13   \n",
       "4   1813452      764             3                   4                 17   \n",
       "\n",
       "   days_since_prior_order  add_to_cart_order  reordered _merge  \n",
       "0                     3.0                  5          0   both  \n",
       "1                    20.0                  1          1   both  \n",
       "2                     6.0                 20          0   both  \n",
       "3                     NaN                 10          0   both  \n",
       "4                     9.0                 11          1   both  "
      ]
     },
     "execution_count": 5,
     "metadata": {},
     "output_type": "execute_result"
    }
   ],
   "source": "df_ords_prods_merge.head()"
  },
  {
   "cell_type": "code",
   "execution_count": 6,
   "id": "21e61296-daa3-4627-b0d5-5839656d6454",
   "metadata": {
    "scrolled": true
   },
   "outputs": [
    {
     "data": {
      "text/html": [
       "<div>\n",
       "<style scoped>\n",
       "    .dataframe tbody tr th:only-of-type {\n",
       "        vertical-align: middle;\n",
       "    }\n",
       "\n",
       "    .dataframe tbody tr th {\n",
       "        vertical-align: top;\n",
       "    }\n",
       "\n",
       "    .dataframe thead th {\n",
       "        text-align: right;\n",
       "    }\n",
       "</style>\n",
       "<table border=\"1\" class=\"dataframe\">\n",
       "  <thead>\n",
       "    <tr style=\"text-align: right;\">\n",
       "      <th></th>\n",
       "      <th>product_id</th>\n",
       "      <th>aisle_id</th>\n",
       "      <th>department_id</th>\n",
       "      <th>prices</th>\n",
       "      <th>order_id</th>\n",
       "      <th>user_id</th>\n",
       "      <th>order_number</th>\n",
       "      <th>orders_day_of_week</th>\n",
       "      <th>order_hour_of_day</th>\n",
       "      <th>days_since_prior_order</th>\n",
       "      <th>add_to_cart_order</th>\n",
       "      <th>reordered</th>\n",
       "    </tr>\n",
       "  </thead>\n",
       "  <tbody>\n",
       "    <tr>\n",
       "      <th>count</th>\n",
       "      <td>3.240486e+07</td>\n",
       "      <td>3.240486e+07</td>\n",
       "      <td>3.240486e+07</td>\n",
       "      <td>3.240486e+07</td>\n",
       "      <td>3.240486e+07</td>\n",
       "      <td>3.240486e+07</td>\n",
       "      <td>3.240486e+07</td>\n",
       "      <td>3.240486e+07</td>\n",
       "      <td>3.240486e+07</td>\n",
       "      <td>3.032876e+07</td>\n",
       "      <td>3.240486e+07</td>\n",
       "      <td>3.240486e+07</td>\n",
       "    </tr>\n",
       "    <tr>\n",
       "      <th>mean</th>\n",
       "      <td>2.559866e+04</td>\n",
       "      <td>7.119612e+01</td>\n",
       "      <td>9.919792e+00</td>\n",
       "      <td>1.198023e+01</td>\n",
       "      <td>1.710745e+06</td>\n",
       "      <td>1.029372e+05</td>\n",
       "      <td>1.714230e+01</td>\n",
       "      <td>2.738867e+00</td>\n",
       "      <td>1.342515e+01</td>\n",
       "      <td>1.110408e+01</td>\n",
       "      <td>8.352547e+00</td>\n",
       "      <td>5.895873e-01</td>\n",
       "    </tr>\n",
       "    <tr>\n",
       "      <th>std</th>\n",
       "      <td>1.408400e+04</td>\n",
       "      <td>3.821139e+01</td>\n",
       "      <td>6.281485e+00</td>\n",
       "      <td>4.956554e+02</td>\n",
       "      <td>9.872988e+05</td>\n",
       "      <td>5.946610e+04</td>\n",
       "      <td>1.753532e+01</td>\n",
       "      <td>2.090077e+00</td>\n",
       "      <td>4.246380e+00</td>\n",
       "      <td>8.779064e+00</td>\n",
       "      <td>7.127071e+00</td>\n",
       "      <td>4.919087e-01</td>\n",
       "    </tr>\n",
       "    <tr>\n",
       "      <th>min</th>\n",
       "      <td>1.000000e+00</td>\n",
       "      <td>1.000000e+00</td>\n",
       "      <td>1.000000e+00</td>\n",
       "      <td>1.000000e+00</td>\n",
       "      <td>2.000000e+00</td>\n",
       "      <td>1.000000e+00</td>\n",
       "      <td>1.000000e+00</td>\n",
       "      <td>0.000000e+00</td>\n",
       "      <td>0.000000e+00</td>\n",
       "      <td>0.000000e+00</td>\n",
       "      <td>1.000000e+00</td>\n",
       "      <td>0.000000e+00</td>\n",
       "    </tr>\n",
       "    <tr>\n",
       "      <th>25%</th>\n",
       "      <td>1.354400e+04</td>\n",
       "      <td>3.100000e+01</td>\n",
       "      <td>4.000000e+00</td>\n",
       "      <td>4.200000e+00</td>\n",
       "      <td>8.559470e+05</td>\n",
       "      <td>5.142200e+04</td>\n",
       "      <td>5.000000e+00</td>\n",
       "      <td>1.000000e+00</td>\n",
       "      <td>1.000000e+01</td>\n",
       "      <td>5.000000e+00</td>\n",
       "      <td>3.000000e+00</td>\n",
       "      <td>0.000000e+00</td>\n",
       "    </tr>\n",
       "    <tr>\n",
       "      <th>50%</th>\n",
       "      <td>2.530200e+04</td>\n",
       "      <td>8.300000e+01</td>\n",
       "      <td>9.000000e+00</td>\n",
       "      <td>7.400000e+00</td>\n",
       "      <td>1.711049e+06</td>\n",
       "      <td>1.026160e+05</td>\n",
       "      <td>1.100000e+01</td>\n",
       "      <td>3.000000e+00</td>\n",
       "      <td>1.300000e+01</td>\n",
       "      <td>8.000000e+00</td>\n",
       "      <td>6.000000e+00</td>\n",
       "      <td>1.000000e+00</td>\n",
       "    </tr>\n",
       "    <tr>\n",
       "      <th>75%</th>\n",
       "      <td>3.794700e+04</td>\n",
       "      <td>1.070000e+02</td>\n",
       "      <td>1.600000e+01</td>\n",
       "      <td>1.130000e+01</td>\n",
       "      <td>2.565499e+06</td>\n",
       "      <td>1.543890e+05</td>\n",
       "      <td>2.400000e+01</td>\n",
       "      <td>5.000000e+00</td>\n",
       "      <td>1.600000e+01</td>\n",
       "      <td>1.500000e+01</td>\n",
       "      <td>1.100000e+01</td>\n",
       "      <td>1.000000e+00</td>\n",
       "    </tr>\n",
       "    <tr>\n",
       "      <th>max</th>\n",
       "      <td>4.968800e+04</td>\n",
       "      <td>1.340000e+02</td>\n",
       "      <td>2.100000e+01</td>\n",
       "      <td>9.999900e+04</td>\n",
       "      <td>3.421083e+06</td>\n",
       "      <td>2.062090e+05</td>\n",
       "      <td>9.900000e+01</td>\n",
       "      <td>6.000000e+00</td>\n",
       "      <td>2.300000e+01</td>\n",
       "      <td>3.000000e+01</td>\n",
       "      <td>1.450000e+02</td>\n",
       "      <td>1.000000e+00</td>\n",
       "    </tr>\n",
       "  </tbody>\n",
       "</table>\n",
       "</div>"
      ],
      "text/plain": [
       "         product_id      aisle_id  department_id        prices      order_id  \\\n",
       "count  3.240486e+07  3.240486e+07   3.240486e+07  3.240486e+07  3.240486e+07   \n",
       "mean   2.559866e+04  7.119612e+01   9.919792e+00  1.198023e+01  1.710745e+06   \n",
       "std    1.408400e+04  3.821139e+01   6.281485e+00  4.956554e+02  9.872988e+05   \n",
       "min    1.000000e+00  1.000000e+00   1.000000e+00  1.000000e+00  2.000000e+00   \n",
       "25%    1.354400e+04  3.100000e+01   4.000000e+00  4.200000e+00  8.559470e+05   \n",
       "50%    2.530200e+04  8.300000e+01   9.000000e+00  7.400000e+00  1.711049e+06   \n",
       "75%    3.794700e+04  1.070000e+02   1.600000e+01  1.130000e+01  2.565499e+06   \n",
       "max    4.968800e+04  1.340000e+02   2.100000e+01  9.999900e+04  3.421083e+06   \n",
       "\n",
       "            user_id  order_number  orders_day_of_week  order_hour_of_day  \\\n",
       "count  3.240486e+07  3.240486e+07        3.240486e+07       3.240486e+07   \n",
       "mean   1.029372e+05  1.714230e+01        2.738867e+00       1.342515e+01   \n",
       "std    5.946610e+04  1.753532e+01        2.090077e+00       4.246380e+00   \n",
       "min    1.000000e+00  1.000000e+00        0.000000e+00       0.000000e+00   \n",
       "25%    5.142200e+04  5.000000e+00        1.000000e+00       1.000000e+01   \n",
       "50%    1.026160e+05  1.100000e+01        3.000000e+00       1.300000e+01   \n",
       "75%    1.543890e+05  2.400000e+01        5.000000e+00       1.600000e+01   \n",
       "max    2.062090e+05  9.900000e+01        6.000000e+00       2.300000e+01   \n",
       "\n",
       "       days_since_prior_order  add_to_cart_order     reordered  \n",
       "count            3.032876e+07       3.240486e+07  3.240486e+07  \n",
       "mean             1.110408e+01       8.352547e+00  5.895873e-01  \n",
       "std              8.779064e+00       7.127071e+00  4.919087e-01  \n",
       "min              0.000000e+00       1.000000e+00  0.000000e+00  \n",
       "25%              5.000000e+00       3.000000e+00  0.000000e+00  \n",
       "50%              8.000000e+00       6.000000e+00  1.000000e+00  \n",
       "75%              1.500000e+01       1.100000e+01  1.000000e+00  \n",
       "max              3.000000e+01       1.450000e+02  1.000000e+00  "
      ]
     },
     "execution_count": 6,
     "metadata": {},
     "output_type": "execute_result"
    }
   ],
   "source": "df_ords_prods_merge.describe()"
  },
  {
   "cell_type": "code",
   "execution_count": 7,
   "id": "9b0ebf12-7c3d-49cf-9dd4-e8c3ee7dda82",
   "metadata": {},
   "outputs": [
    {
     "data": {
      "text/plain": [
       "(32404859, 14)"
      ]
     },
     "execution_count": 7,
     "metadata": {},
     "output_type": "execute_result"
    }
   ],
   "source": "df_ords_prods_merge.shape"
  },
  {
   "cell_type": "code",
   "execution_count": 8,
   "id": "4b76e2b4-e0b8-4f50-ace9-fe427aac5b61",
   "metadata": {},
   "outputs": [],
   "source": "# Step 2: Create smaller subset to save computational power\ndf = df_ords_prods_merge[:1000000]"
  },
  {
   "cell_type": "code",
   "execution_count": 9,
   "id": "1e09c4d6-c39d-443a-b718-b9d108d4a25f",
   "metadata": {},
   "outputs": [
    {
     "data": {
      "text/plain": [
       "(1000000, 14)"
      ]
     },
     "execution_count": 9,
     "metadata": {},
     "output_type": "execute_result"
    }
   ],
   "source": "df.shape"
  },
  {
   "cell_type": "code",
   "execution_count": 10,
   "id": "4d4e55fd-98dd-42dd-b072-2c70a0e8e9d5",
   "metadata": {},
   "outputs": [],
   "source": "# Step 3: Define price label\ndef price_label(row):\n\n  if row['prices'] <= 5:\n    return 'Low-range product'\n  elif (row['prices'] > 5) and (row['prices'] <= 15):\n    return 'Mid-range product'\n  elif row['prices'] > 15:\n    return 'High range'\n  else: return 'Not enough data'"
  },
  {
   "cell_type": "code",
   "execution_count": 11,
   "id": "a5f4363e-2c36-4b37-91a2-27045156c18f",
   "metadata": {},
   "outputs": [
    {
     "name": "stderr",
     "output_type": "stream",
     "text": [
      "/var/folders/1j/6kl1db154h162qkvyqrhft3h0000gn/T/ipykernel_8877/2848743372.py:1: SettingWithCopyWarning: \n",
      "A value is trying to be set on a copy of a slice from a DataFrame.\n",
      "Try using .loc[row_indexer,col_indexer] = value instead\n",
      "\n",
      "See the caveats in the documentation: https://pandas.pydata.org/pandas-docs/stable/user_guide/indexing.html#returning-a-view-versus-a-copy\n",
      "  df['price_range'] = df.apply(price_label, axis=1)\n"
     ]
    }
   ],
   "source": "df['price_range'] = df.apply(price_label, axis=1)"
  },
  {
   "cell_type": "code",
   "execution_count": 12,
   "id": "6530b652-057f-4ff6-9744-28a403ad244b",
   "metadata": {},
   "outputs": [
    {
     "data": {
      "text/plain": [
       "price_range\n",
       "Mid-range product    652638\n",
       "Low-range product    338018\n",
       "High range             9344\n",
       "Name: count, dtype: int64"
      ]
     },
     "execution_count": 12,
     "metadata": {},
     "output_type": "execute_result"
    }
   ],
   "source": "df['price_range'].value_counts(dropna = False)"
  },
  {
   "cell_type": "code",
   "execution_count": 13,
   "id": "0ec97896-0f6f-4aa1-839d-1b9ffb624e7e",
   "metadata": {},
   "outputs": [
    {
     "data": {
      "text/plain": [
       "24.5"
      ]
     },
     "execution_count": 13,
     "metadata": {},
     "output_type": "execute_result"
    }
   ],
   "source": "df['prices'].max()"
  },
  {
   "cell_type": "markdown",
   "id": "babb1db1-d69a-47b0-a6a4-03f79fa688c5",
   "metadata": {},
   "source": [
    "### If-statements with loc() function"
   ]
  },
  {
   "cell_type": "code",
   "execution_count": 14,
   "id": "d8ebfefa-a29d-4240-a6bd-bf675d2f55cb",
   "metadata": {},
   "outputs": [
    {
     "name": "stderr",
     "output_type": "stream",
     "text": [
      "/var/folders/1j/6kl1db154h162qkvyqrhft3h0000gn/T/ipykernel_8877/1169838859.py:1: SettingWithCopyWarning: \n",
      "A value is trying to be set on a copy of a slice from a DataFrame.\n",
      "Try using .loc[row_indexer,col_indexer] = value instead\n",
      "\n",
      "See the caveats in the documentation: https://pandas.pydata.org/pandas-docs/stable/user_guide/indexing.html#returning-a-view-versus-a-copy\n",
      "  df.loc[df['prices'] > 15, 'price_range_loc'] = 'High-range product'\n"
     ]
    }
   ],
   "source": "df.loc[df['prices'] > 15, 'price_range_loc'] = 'High-range product'"
  },
  {
   "cell_type": "code",
   "execution_count": 15,
   "id": "9a13b535-985d-4940-8170-faa6384039a8",
   "metadata": {},
   "outputs": [],
   "source": "df.loc[(df['prices'] <= 15) & (df['prices'] > 5), 'price_range_loc'] = 'Mid-range product' "
  },
  {
   "cell_type": "code",
   "execution_count": 16,
   "id": "a85d848a-b6ba-48f5-87a5-ffaa2fed439b",
   "metadata": {},
   "outputs": [],
   "source": "df.loc[df['prices'] <= 5, 'price_range_loc'] = 'Low-range product'"
  },
  {
   "cell_type": "code",
   "execution_count": 17,
   "id": "f145d816-e263-4b61-9328-9427d64cf7ed",
   "metadata": {},
   "outputs": [
    {
     "data": {
      "text/plain": [
       "price_range\n",
       "Mid-range product    652638\n",
       "Low-range product    338018\n",
       "High range             9344\n",
       "Name: count, dtype: int64"
      ]
     },
     "execution_count": 17,
     "metadata": {},
     "output_type": "execute_result"
    }
   ],
   "source": "df['price_range'].value_counts(dropna = False)"
  },
  {
   "cell_type": "markdown",
   "id": "19f27ff8-7762-4788-90a3-8264d5f0ab2c",
   "metadata": {},
   "source": [
    "##### Adding the price column to the original dataframe"
   ]
  },
  {
   "cell_type": "code",
   "execution_count": 18,
   "id": "b1ab1bca-d073-4c0a-bbfe-f7ec6ff1966d",
   "metadata": {},
   "outputs": [],
   "source": "df_ords_prods_merge.loc[df_ords_prods_merge['prices'] > 15, 'price_range_loc'] = 'High-range product'"
  },
  {
   "cell_type": "code",
   "execution_count": 19,
   "id": "7f79a8a3-8c5a-4def-bdf7-00798c13cebd",
   "metadata": {},
   "outputs": [],
   "source": "df_ords_prods_merge.loc[(df_ords_prods_merge['prices'] <= 15) & (df_ords_prods_merge['prices'] > 5), 'price_range_loc'] = 'Mid-range product'"
  },
  {
   "cell_type": "code",
   "execution_count": 20,
   "id": "750e162a-4128-42e3-a544-d16f3d9d5f75",
   "metadata": {},
   "outputs": [],
   "source": "df_ords_prods_merge.loc[df_ords_prods_merge['prices'] <= 5, 'price_range_loc'] = 'Low-range product'"
  },
  {
   "cell_type": "code",
   "execution_count": 21,
   "id": "0efd1a65-1e32-454b-8002-bfd96f759ccb",
   "metadata": {},
   "outputs": [
    {
     "data": {
      "text/plain": [
       "price_range_loc\n",
       "Mid-range product     21860860\n",
       "Low-range product     10126321\n",
       "High-range product      417678\n",
       "Name: count, dtype: int64"
      ]
     },
     "execution_count": 21,
     "metadata": {},
     "output_type": "execute_result"
    }
   ],
   "source": "# Step 1: Checking the values of the new column\ndf_ords_prods_merge['price_range_loc'].value_counts(dropna = False)"
  },
  {
   "cell_type": "code",
   "execution_count": 22,
   "id": "d4e02d29-d585-476a-96d2-c0d41377a9ff",
   "metadata": {},
   "outputs": [
    {
     "data": {
      "text/plain": [
       "99999.0"
      ]
     },
     "execution_count": 22,
     "metadata": {},
     "output_type": "execute_result"
    }
   ],
   "source": "# Step 2: Checking the max price\ndf_ords_prods_merge['prices'].max()"
  },
  {
   "cell_type": "markdown",
   "id": "4469aac6-7909-43a1-af8d-092e96c02868",
   "metadata": {},
   "source": [
    "I seem to have missed excluding \"Lowfat 2% Milkfat Cottage Cheese\" and \"2 % Reduced Fat Milk\" from my dataset due to wrong price info"
   ]
  },
  {
   "cell_type": "code",
   "execution_count": 23,
   "id": "3b038cf6-c2e1-419f-ae83-02b5afa651e2",
   "metadata": {},
   "outputs": [
    {
     "data": {
      "text/html": [
       "<div>\n",
       "<style scoped>\n",
       "    .dataframe tbody tr th:only-of-type {\n",
       "        vertical-align: middle;\n",
       "    }\n",
       "\n",
       "    .dataframe tbody tr th {\n",
       "        vertical-align: top;\n",
       "    }\n",
       "\n",
       "    .dataframe thead th {\n",
       "        text-align: right;\n",
       "    }\n",
       "</style>\n",
       "<table border=\"1\" class=\"dataframe\">\n",
       "  <thead>\n",
       "    <tr style=\"text-align: right;\">\n",
       "      <th></th>\n",
       "      <th>product_id</th>\n",
       "      <th>product_name</th>\n",
       "      <th>aisle_id</th>\n",
       "      <th>department_id</th>\n",
       "      <th>prices</th>\n",
       "      <th>order_id</th>\n",
       "      <th>user_id</th>\n",
       "      <th>order_number</th>\n",
       "      <th>orders_day_of_week</th>\n",
       "      <th>order_hour_of_day</th>\n",
       "      <th>days_since_prior_order</th>\n",
       "      <th>add_to_cart_order</th>\n",
       "      <th>reordered</th>\n",
       "      <th>_merge</th>\n",
       "      <th>price_range_loc</th>\n",
       "    </tr>\n",
       "  </thead>\n",
       "  <tbody>\n",
       "    <tr>\n",
       "      <th>13100147</th>\n",
       "      <td>21553</td>\n",
       "      <td>Lowfat 2% Milkfat Cottage Cheese</td>\n",
       "      <td>108</td>\n",
       "      <td>16</td>\n",
       "      <td>14900.0</td>\n",
       "      <td>912404</td>\n",
       "      <td>17</td>\n",
       "      <td>12</td>\n",
       "      <td>2</td>\n",
       "      <td>14</td>\n",
       "      <td>5.0</td>\n",
       "      <td>5</td>\n",
       "      <td>0</td>\n",
       "      <td>both</td>\n",
       "      <td>High-range product</td>\n",
       "    </tr>\n",
       "    <tr>\n",
       "      <th>13100148</th>\n",
       "      <td>21553</td>\n",
       "      <td>Lowfat 2% Milkfat Cottage Cheese</td>\n",
       "      <td>108</td>\n",
       "      <td>16</td>\n",
       "      <td>14900.0</td>\n",
       "      <td>603376</td>\n",
       "      <td>17</td>\n",
       "      <td>22</td>\n",
       "      <td>6</td>\n",
       "      <td>16</td>\n",
       "      <td>4.0</td>\n",
       "      <td>3</td>\n",
       "      <td>1</td>\n",
       "      <td>both</td>\n",
       "      <td>High-range product</td>\n",
       "    </tr>\n",
       "    <tr>\n",
       "      <th>13100149</th>\n",
       "      <td>21553</td>\n",
       "      <td>Lowfat 2% Milkfat Cottage Cheese</td>\n",
       "      <td>108</td>\n",
       "      <td>16</td>\n",
       "      <td>14900.0</td>\n",
       "      <td>3264360</td>\n",
       "      <td>135</td>\n",
       "      <td>2</td>\n",
       "      <td>2</td>\n",
       "      <td>21</td>\n",
       "      <td>13.0</td>\n",
       "      <td>6</td>\n",
       "      <td>0</td>\n",
       "      <td>both</td>\n",
       "      <td>High-range product</td>\n",
       "    </tr>\n",
       "    <tr>\n",
       "      <th>13100150</th>\n",
       "      <td>21553</td>\n",
       "      <td>Lowfat 2% Milkfat Cottage Cheese</td>\n",
       "      <td>108</td>\n",
       "      <td>16</td>\n",
       "      <td>14900.0</td>\n",
       "      <td>892534</td>\n",
       "      <td>135</td>\n",
       "      <td>3</td>\n",
       "      <td>0</td>\n",
       "      <td>8</td>\n",
       "      <td>12.0</td>\n",
       "      <td>3</td>\n",
       "      <td>1</td>\n",
       "      <td>both</td>\n",
       "      <td>High-range product</td>\n",
       "    </tr>\n",
       "    <tr>\n",
       "      <th>13100151</th>\n",
       "      <td>21553</td>\n",
       "      <td>Lowfat 2% Milkfat Cottage Cheese</td>\n",
       "      <td>108</td>\n",
       "      <td>16</td>\n",
       "      <td>14900.0</td>\n",
       "      <td>229704</td>\n",
       "      <td>342</td>\n",
       "      <td>8</td>\n",
       "      <td>1</td>\n",
       "      <td>19</td>\n",
       "      <td>30.0</td>\n",
       "      <td>9</td>\n",
       "      <td>0</td>\n",
       "      <td>both</td>\n",
       "      <td>High-range product</td>\n",
       "    </tr>\n",
       "    <tr>\n",
       "      <th>...</th>\n",
       "      <td>...</td>\n",
       "      <td>...</td>\n",
       "      <td>...</td>\n",
       "      <td>...</td>\n",
       "      <td>...</td>\n",
       "      <td>...</td>\n",
       "      <td>...</td>\n",
       "      <td>...</td>\n",
       "      <td>...</td>\n",
       "      <td>...</td>\n",
       "      <td>...</td>\n",
       "      <td>...</td>\n",
       "      <td>...</td>\n",
       "      <td>...</td>\n",
       "      <td>...</td>\n",
       "    </tr>\n",
       "    <tr>\n",
       "      <th>21786876</th>\n",
       "      <td>33664</td>\n",
       "      <td>2 % Reduced Fat  Milk</td>\n",
       "      <td>84</td>\n",
       "      <td>16</td>\n",
       "      <td>99999.0</td>\n",
       "      <td>2249946</td>\n",
       "      <td>204099</td>\n",
       "      <td>29</td>\n",
       "      <td>0</td>\n",
       "      <td>8</td>\n",
       "      <td>4.0</td>\n",
       "      <td>1</td>\n",
       "      <td>0</td>\n",
       "      <td>both</td>\n",
       "      <td>High-range product</td>\n",
       "    </tr>\n",
       "    <tr>\n",
       "      <th>21786877</th>\n",
       "      <td>33664</td>\n",
       "      <td>2 % Reduced Fat  Milk</td>\n",
       "      <td>84</td>\n",
       "      <td>16</td>\n",
       "      <td>99999.0</td>\n",
       "      <td>2363282</td>\n",
       "      <td>204099</td>\n",
       "      <td>31</td>\n",
       "      <td>0</td>\n",
       "      <td>9</td>\n",
       "      <td>2.0</td>\n",
       "      <td>1</td>\n",
       "      <td>1</td>\n",
       "      <td>both</td>\n",
       "      <td>High-range product</td>\n",
       "    </tr>\n",
       "    <tr>\n",
       "      <th>21786878</th>\n",
       "      <td>33664</td>\n",
       "      <td>2 % Reduced Fat  Milk</td>\n",
       "      <td>84</td>\n",
       "      <td>16</td>\n",
       "      <td>99999.0</td>\n",
       "      <td>3181945</td>\n",
       "      <td>204395</td>\n",
       "      <td>13</td>\n",
       "      <td>3</td>\n",
       "      <td>15</td>\n",
       "      <td>8.0</td>\n",
       "      <td>25</td>\n",
       "      <td>0</td>\n",
       "      <td>both</td>\n",
       "      <td>High-range product</td>\n",
       "    </tr>\n",
       "    <tr>\n",
       "      <th>21786879</th>\n",
       "      <td>33664</td>\n",
       "      <td>2 % Reduced Fat  Milk</td>\n",
       "      <td>84</td>\n",
       "      <td>16</td>\n",
       "      <td>99999.0</td>\n",
       "      <td>2486215</td>\n",
       "      <td>205227</td>\n",
       "      <td>7</td>\n",
       "      <td>3</td>\n",
       "      <td>20</td>\n",
       "      <td>4.0</td>\n",
       "      <td>8</td>\n",
       "      <td>0</td>\n",
       "      <td>both</td>\n",
       "      <td>High-range product</td>\n",
       "    </tr>\n",
       "    <tr>\n",
       "      <th>21786880</th>\n",
       "      <td>33664</td>\n",
       "      <td>2 % Reduced Fat  Milk</td>\n",
       "      <td>84</td>\n",
       "      <td>16</td>\n",
       "      <td>99999.0</td>\n",
       "      <td>2232716</td>\n",
       "      <td>205227</td>\n",
       "      <td>10</td>\n",
       "      <td>0</td>\n",
       "      <td>11</td>\n",
       "      <td>4.0</td>\n",
       "      <td>23</td>\n",
       "      <td>1</td>\n",
       "      <td>both</td>\n",
       "      <td>High-range product</td>\n",
       "    </tr>\n",
       "  </tbody>\n",
       "</table>\n",
       "<p>5127 rows × 15 columns</p>\n",
       "</div>"
      ],
      "text/plain": [
       "          product_id                      product_name  aisle_id  \\\n",
       "13100147       21553  Lowfat 2% Milkfat Cottage Cheese       108   \n",
       "13100148       21553  Lowfat 2% Milkfat Cottage Cheese       108   \n",
       "13100149       21553  Lowfat 2% Milkfat Cottage Cheese       108   \n",
       "13100150       21553  Lowfat 2% Milkfat Cottage Cheese       108   \n",
       "13100151       21553  Lowfat 2% Milkfat Cottage Cheese       108   \n",
       "...              ...                               ...       ...   \n",
       "21786876       33664             2 % Reduced Fat  Milk        84   \n",
       "21786877       33664             2 % Reduced Fat  Milk        84   \n",
       "21786878       33664             2 % Reduced Fat  Milk        84   \n",
       "21786879       33664             2 % Reduced Fat  Milk        84   \n",
       "21786880       33664             2 % Reduced Fat  Milk        84   \n",
       "\n",
       "          department_id   prices  order_id  user_id  order_number  \\\n",
       "13100147             16  14900.0    912404       17            12   \n",
       "13100148             16  14900.0    603376       17            22   \n",
       "13100149             16  14900.0   3264360      135             2   \n",
       "13100150             16  14900.0    892534      135             3   \n",
       "13100151             16  14900.0    229704      342             8   \n",
       "...                 ...      ...       ...      ...           ...   \n",
       "21786876             16  99999.0   2249946   204099            29   \n",
       "21786877             16  99999.0   2363282   204099            31   \n",
       "21786878             16  99999.0   3181945   204395            13   \n",
       "21786879             16  99999.0   2486215   205227             7   \n",
       "21786880             16  99999.0   2232716   205227            10   \n",
       "\n",
       "          orders_day_of_week  order_hour_of_day  days_since_prior_order  \\\n",
       "13100147                   2                 14                     5.0   \n",
       "13100148                   6                 16                     4.0   \n",
       "13100149                   2                 21                    13.0   \n",
       "13100150                   0                  8                    12.0   \n",
       "13100151                   1                 19                    30.0   \n",
       "...                      ...                ...                     ...   \n",
       "21786876                   0                  8                     4.0   \n",
       "21786877                   0                  9                     2.0   \n",
       "21786878                   3                 15                     8.0   \n",
       "21786879                   3                 20                     4.0   \n",
       "21786880                   0                 11                     4.0   \n",
       "\n",
       "          add_to_cart_order  reordered _merge     price_range_loc  \n",
       "13100147                  5          0   both  High-range product  \n",
       "13100148                  3          1   both  High-range product  \n",
       "13100149                  6          0   both  High-range product  \n",
       "13100150                  3          1   both  High-range product  \n",
       "13100151                  9          0   both  High-range product  \n",
       "...                     ...        ...    ...                 ...  \n",
       "21786876                  1          0   both  High-range product  \n",
       "21786877                  1          1   both  High-range product  \n",
       "21786878                 25          0   both  High-range product  \n",
       "21786879                  8          0   both  High-range product  \n",
       "21786880                 23          1   both  High-range product  \n",
       "\n",
       "[5127 rows x 15 columns]"
      ]
     },
     "execution_count": 23,
     "metadata": {},
     "output_type": "execute_result"
    }
   ],
   "source": "df_ords_prods_merge[df_ords_prods_merge['prices'] > 100]"
  },
  {
   "cell_type": "markdown",
   "id": "aef91e05-5281-423d-871d-515704fd8492",
   "metadata": {},
   "source": [
    "### If-statements with for-loops\n"
   ]
  },
  {
   "cell_type": "code",
   "execution_count": 24,
   "id": "5495b9c9-ea87-4aa3-acf6-2ae39db6b065",
   "metadata": {},
   "outputs": [
    {
     "data": {
      "text/plain": [
       "orders_day_of_week\n",
       "0    6204182\n",
       "1    5660230\n",
       "6    4496490\n",
       "2    4213830\n",
       "5    4205791\n",
       "3    3840534\n",
       "4    3783802\n",
       "Name: count, dtype: int64"
      ]
     },
     "execution_count": 24,
     "metadata": {},
     "output_type": "execute_result"
    }
   ],
   "source": "# Step 1: Printing the frequency of the different observations to understand on which day most orders happen\ndf_ords_prods_merge['orders_day_of_week'].value_counts(dropna = False)"
  },
  {
   "cell_type": "code",
   "execution_count": 25,
   "id": "ab7564be-c8f0-4271-8467-4689b0244cc4",
   "metadata": {},
   "outputs": [],
   "source": "result = []\n\nfor value in df_ords_prods_merge[\"orders_day_of_week\"]:\n  if value == 0:\n    result.append(\"Busiest day\")\n  elif value == 4:\n    result.append(\"Least busy\")\n  else:\n    result.append(\"Regularly busy\")"
  },
  {
   "cell_type": "code",
   "execution_count": 26,
   "id": "4f5d1524-f15d-4287-80d1-0c2fbdb850f3",
   "metadata": {},
   "outputs": [],
   "source": "df_ords_prods_merge['busiest_day'] = result"
  },
  {
   "cell_type": "code",
   "execution_count": 27,
   "id": "eb9fc6c1-da87-466b-9288-8706130660b9",
   "metadata": {
    "scrolled": true
   },
   "outputs": [
    {
     "data": {
      "text/plain": [
       "busiest_day\n",
       "Regularly busy    22416875\n",
       "Busiest day        6204182\n",
       "Least busy         3783802\n",
       "Name: count, dtype: int64"
      ]
     },
     "execution_count": 27,
     "metadata": {},
     "output_type": "execute_result"
    }
   ],
   "source": "# Step 2: Check output of new column\ndf_ords_prods_merge['busiest_day'].value_counts(dropna = False)"
  },
  {
   "cell_type": "markdown",
   "id": "799ab81a-fdef-4937-8f04-76e148a8948c",
   "metadata": {},
   "source": [
    "### TASK 4.7."
   ]
  },
  {
   "cell_type": "code",
   "execution_count": 28,
   "id": "30151f55-3062-4034-ae35-1a6b9a01b9d6",
   "metadata": {},
   "outputs": [],
   "source": "result = []\n\nfor value in df_ords_prods_merge[\"orders_day_of_week\"]:\n  if value in (0,1):\n    result.append(\"Busiest days\")\n  elif value in (3,4):\n    result.append(\"Least busy\")\n  else:\n    result.append(\"Regularly busy\")"
  },
  {
   "cell_type": "code",
   "execution_count": 29,
   "id": "0bd9aaaf-e5f1-4b0d-a855-420186d6b4f6",
   "metadata": {},
   "outputs": [],
   "source": "# Step 1: Create a new column called busiest days based on the results of our for loop\ndf_ords_prods_merge['busiest_days'] = result"
  },
  {
   "cell_type": "markdown",
   "id": "a47bcfb2-6a46-4b71-a9cd-279becbcdf17",
   "metadata": {},
   "source": [
    "#### Check the values of this new column for accuracy. Note any observations in markdown format.\n"
   ]
  },
  {
   "cell_type": "code",
   "execution_count": 30,
   "id": "537307aa-6ad0-4ad3-b67d-21a7537f0777",
   "metadata": {
    "scrolled": true
   },
   "outputs": [
    {
     "data": {
      "text/plain": [
       "busiest_days\n",
       "Regularly busy    12916111\n",
       "Busiest days      11864412\n",
       "Least busy         7624336\n",
       "Name: count, dtype: int64"
      ]
     },
     "execution_count": 30,
     "metadata": {},
     "output_type": "execute_result"
    }
   ],
   "source": "# Step 2: Check output of new column\ndf_ords_prods_merge['busiest_days'].value_counts(dropna = False)"
  },
  {
   "cell_type": "code",
   "execution_count": 31,
   "id": "c9e3e0c7-180c-42b8-8dc5-529af268dcfd",
   "metadata": {},
   "outputs": [
    {
     "data": {
      "text/plain": [
       "np.int64(32404859)"
      ]
     },
     "execution_count": 31,
     "metadata": {},
     "output_type": "execute_result"
    }
   ],
   "source": "# Step 3: Check output of new column\ndf_ords_prods_merge['busiest_days'].value_counts(dropna = False).sum()"
  },
  {
   "cell_type": "markdown",
   "id": "b070044c-e52d-4ee7-84b8-9e508c971ec7",
   "metadata": {},
   "source": [
    "There are less average days, as expected. Number of observations sum up to the correct number of observations in df."
   ]
  },
  {
   "cell_type": "markdown",
   "id": "27f59fa2-8d9b-4027-980c-9403b0747189",
   "metadata": {},
   "source": [
    "####  Identify the busiest hours of the day. Rather than by hour, they want periods of time labeled “Most orders,” “Average orders,” and “Fewest orders.” Create a new column containing these labels called “busiest_period_of_day.”"
   ]
  },
  {
   "cell_type": "code",
   "execution_count": 32,
   "id": "f0f44422-fd6c-4055-bc48-56cb6b935ed7",
   "metadata": {
    "scrolled": true
   },
   "outputs": [
    {
     "data": {
      "text/plain": [
       "order_hour_of_day\n",
       "10    2761760\n",
       "11    2736140\n",
       "14    2689136\n",
       "15    2662144\n",
       "13    2660954\n",
       "12    2618532\n",
       "16    2535202\n",
       "9     2454203\n",
       "17    2087654\n",
       "8     1718118\n",
       "18    1636502\n",
       "19    1258305\n",
       "20     976156\n",
       "7      891054\n",
       "21     795637\n",
       "22     634225\n",
       "23     402316\n",
       "6      290493\n",
       "0      218769\n",
       "1      115700\n",
       "5       87961\n",
       "2       69375\n",
       "4       53242\n",
       "3       51281\n",
       "Name: count, dtype: int64"
      ]
     },
     "execution_count": 32,
     "metadata": {},
     "output_type": "execute_result"
    }
   ],
   "source": "# Step 4: Understand which hours are busiest, average and lowest\ndf_ords_prods_merge['order_hour_of_day'].value_counts(dropna = False)"
  },
  {
   "cell_type": "markdown",
   "id": "5738f5d3-1b54-4e6d-913c-38463a8da277",
   "metadata": {},
   "source": [
    "Highest: 10,11,14,15,13,12,16,9\n",
    "Lowest: 3,4,2,5,1,0,6,23\n",
    "Average: else"
   ]
  },
  {
   "cell_type": "code",
   "execution_count": 33,
   "id": "03967a1c-5fa2-4ea3-b808-578362ec8333",
   "metadata": {},
   "outputs": [],
   "source": "# Step 5: Create a list where a string describes the frequency of orders based on the number of order during that hour\nresult = []\n\nfor value in df_ords_prods_merge[\"order_hour_of_day\"]:\n  if value in (10,11,14,15,13,12,16,9):\n    result.append(\"Most orders\")\n  elif value in (3,4,2,5,1,0,6,23):\n    result.append(\"Fewest orders\")\n  else:\n    result.append(\"Average orders\")"
  },
  {
   "cell_type": "code",
   "execution_count": 34,
   "id": "bc33279f-8097-40df-8a15-06e231887a2e",
   "metadata": {},
   "outputs": [],
   "source": "# Step 6: Create a new column called busiest hours based on the results of our for loop\ndf_ords_prods_merge['busiest_hours'] = result"
  },
  {
   "cell_type": "code",
   "execution_count": 35,
   "id": "9ce49a24-86f0-4e29-be42-7beab5841dcf",
   "metadata": {},
   "outputs": [
    {
     "data": {
      "text/plain": [
       "busiest_hours\n",
       "Most orders       21118071\n",
       "Average orders     9997651\n",
       "Fewest orders      1289137\n",
       "Name: count, dtype: int64"
      ]
     },
     "execution_count": 35,
     "metadata": {},
     "output_type": "execute_result"
    }
   ],
   "source": "# Step 7: #check frequency of new column\ndf_ords_prods_merge['busiest_hours'].value_counts(dropna = False)"
  },
  {
   "cell_type": "code",
   "execution_count": 36,
   "id": "e49d9ce6-5aa7-48ea-ad43-a1b9416665fb",
   "metadata": {},
   "outputs": [
    {
     "data": {
      "text/html": [
       "<div>\n",
       "<style scoped>\n",
       "    .dataframe tbody tr th:only-of-type {\n",
       "        vertical-align: middle;\n",
       "    }\n",
       "\n",
       "    .dataframe tbody tr th {\n",
       "        vertical-align: top;\n",
       "    }\n",
       "\n",
       "    .dataframe thead th {\n",
       "        text-align: right;\n",
       "    }\n",
       "</style>\n",
       "<table border=\"1\" class=\"dataframe\">\n",
       "  <thead>\n",
       "    <tr style=\"text-align: right;\">\n",
       "      <th></th>\n",
       "      <th>product_id</th>\n",
       "      <th>product_name</th>\n",
       "      <th>aisle_id</th>\n",
       "      <th>department_id</th>\n",
       "      <th>prices</th>\n",
       "      <th>order_id</th>\n",
       "      <th>user_id</th>\n",
       "      <th>order_number</th>\n",
       "      <th>orders_day_of_week</th>\n",
       "      <th>order_hour_of_day</th>\n",
       "      <th>days_since_prior_order</th>\n",
       "      <th>add_to_cart_order</th>\n",
       "      <th>reordered</th>\n",
       "      <th>_merge</th>\n",
       "      <th>price_range_loc</th>\n",
       "      <th>busiest_day</th>\n",
       "      <th>busiest_days</th>\n",
       "      <th>busiest_hours</th>\n",
       "    </tr>\n",
       "  </thead>\n",
       "  <tbody>\n",
       "    <tr>\n",
       "      <th>0</th>\n",
       "      <td>1</td>\n",
       "      <td>Chocolate Sandwich Cookies</td>\n",
       "      <td>61</td>\n",
       "      <td>19</td>\n",
       "      <td>5.8</td>\n",
       "      <td>3139998</td>\n",
       "      <td>138</td>\n",
       "      <td>28</td>\n",
       "      <td>6</td>\n",
       "      <td>11</td>\n",
       "      <td>3.0</td>\n",
       "      <td>5</td>\n",
       "      <td>0</td>\n",
       "      <td>both</td>\n",
       "      <td>Mid-range product</td>\n",
       "      <td>Regularly busy</td>\n",
       "      <td>Regularly busy</td>\n",
       "      <td>Most orders</td>\n",
       "    </tr>\n",
       "    <tr>\n",
       "      <th>1</th>\n",
       "      <td>1</td>\n",
       "      <td>Chocolate Sandwich Cookies</td>\n",
       "      <td>61</td>\n",
       "      <td>19</td>\n",
       "      <td>5.8</td>\n",
       "      <td>1977647</td>\n",
       "      <td>138</td>\n",
       "      <td>30</td>\n",
       "      <td>6</td>\n",
       "      <td>17</td>\n",
       "      <td>20.0</td>\n",
       "      <td>1</td>\n",
       "      <td>1</td>\n",
       "      <td>both</td>\n",
       "      <td>Mid-range product</td>\n",
       "      <td>Regularly busy</td>\n",
       "      <td>Regularly busy</td>\n",
       "      <td>Average orders</td>\n",
       "    </tr>\n",
       "    <tr>\n",
       "      <th>2</th>\n",
       "      <td>1</td>\n",
       "      <td>Chocolate Sandwich Cookies</td>\n",
       "      <td>61</td>\n",
       "      <td>19</td>\n",
       "      <td>5.8</td>\n",
       "      <td>389851</td>\n",
       "      <td>709</td>\n",
       "      <td>2</td>\n",
       "      <td>0</td>\n",
       "      <td>21</td>\n",
       "      <td>6.0</td>\n",
       "      <td>20</td>\n",
       "      <td>0</td>\n",
       "      <td>both</td>\n",
       "      <td>Mid-range product</td>\n",
       "      <td>Busiest day</td>\n",
       "      <td>Busiest days</td>\n",
       "      <td>Average orders</td>\n",
       "    </tr>\n",
       "    <tr>\n",
       "      <th>3</th>\n",
       "      <td>1</td>\n",
       "      <td>Chocolate Sandwich Cookies</td>\n",
       "      <td>61</td>\n",
       "      <td>19</td>\n",
       "      <td>5.8</td>\n",
       "      <td>652770</td>\n",
       "      <td>764</td>\n",
       "      <td>1</td>\n",
       "      <td>3</td>\n",
       "      <td>13</td>\n",
       "      <td>NaN</td>\n",
       "      <td>10</td>\n",
       "      <td>0</td>\n",
       "      <td>both</td>\n",
       "      <td>Mid-range product</td>\n",
       "      <td>Regularly busy</td>\n",
       "      <td>Least busy</td>\n",
       "      <td>Most orders</td>\n",
       "    </tr>\n",
       "    <tr>\n",
       "      <th>4</th>\n",
       "      <td>1</td>\n",
       "      <td>Chocolate Sandwich Cookies</td>\n",
       "      <td>61</td>\n",
       "      <td>19</td>\n",
       "      <td>5.8</td>\n",
       "      <td>1813452</td>\n",
       "      <td>764</td>\n",
       "      <td>3</td>\n",
       "      <td>4</td>\n",
       "      <td>17</td>\n",
       "      <td>9.0</td>\n",
       "      <td>11</td>\n",
       "      <td>1</td>\n",
       "      <td>both</td>\n",
       "      <td>Mid-range product</td>\n",
       "      <td>Least busy</td>\n",
       "      <td>Least busy</td>\n",
       "      <td>Average orders</td>\n",
       "    </tr>\n",
       "  </tbody>\n",
       "</table>\n",
       "</div>"
      ],
      "text/plain": [
       "   product_id                product_name  aisle_id  department_id  prices  \\\n",
       "0           1  Chocolate Sandwich Cookies        61             19     5.8   \n",
       "1           1  Chocolate Sandwich Cookies        61             19     5.8   \n",
       "2           1  Chocolate Sandwich Cookies        61             19     5.8   \n",
       "3           1  Chocolate Sandwich Cookies        61             19     5.8   \n",
       "4           1  Chocolate Sandwich Cookies        61             19     5.8   \n",
       "\n",
       "   order_id  user_id  order_number  orders_day_of_week  order_hour_of_day  \\\n",
       "0   3139998      138            28                   6                 11   \n",
       "1   1977647      138            30                   6                 17   \n",
       "2    389851      709             2                   0                 21   \n",
       "3    652770      764             1                   3                 13   \n",
       "4   1813452      764             3                   4                 17   \n",
       "\n",
       "   days_since_prior_order  add_to_cart_order  reordered _merge  \\\n",
       "0                     3.0                  5          0   both   \n",
       "1                    20.0                  1          1   both   \n",
       "2                     6.0                 20          0   both   \n",
       "3                     NaN                 10          0   both   \n",
       "4                     9.0                 11          1   both   \n",
       "\n",
       "     price_range_loc     busiest_day    busiest_days   busiest_hours  \n",
       "0  Mid-range product  Regularly busy  Regularly busy     Most orders  \n",
       "1  Mid-range product  Regularly busy  Regularly busy  Average orders  \n",
       "2  Mid-range product     Busiest day    Busiest days  Average orders  \n",
       "3  Mid-range product  Regularly busy      Least busy     Most orders  \n",
       "4  Mid-range product      Least busy      Least busy  Average orders  "
      ]
     },
     "execution_count": 36,
     "metadata": {},
     "output_type": "execute_result"
    }
   ],
   "source": "df_ords_prods_merge.head()"
  },
  {
   "cell_type": "code",
   "execution_count": 37,
   "id": "78320cff-d864-4ce2-a359-73b7b01fedc4",
   "metadata": {},
   "outputs": [],
   "source": "# Step 8: Export data to pkl\ndf_ords_prods_merge.to_pickle(os.path.join(path, '02 Data','Prepared Data', 'ords_prods_merge.pkl'))"
  },
  {
   "cell_type": "code",
   "execution_count": null,
   "id": "fefc71b2-d711-4392-baa8-6c325eaacb46",
   "metadata": {},
   "outputs": [],
   "source": ""
  }
 ],
 "metadata": {
  "kernelspec": {
   "display_name": "Python [conda env:base] *",
   "language": "python",
   "name": "conda-base-py"
  },
  "language_info": {
   "codemirror_mode": {
    "name": "ipython",
    "version": 3
   },
   "file_extension": ".py",
   "mimetype": "text/x-python",
   "name": "python",
   "nbconvert_exporter": "python",
   "pygments_lexer": "ipython3",
   "version": "3.13.5"
  }
 },
 "nbformat": 4,
 "nbformat_minor": 5
}